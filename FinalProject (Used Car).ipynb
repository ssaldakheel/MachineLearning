{
 "cells": [
  {
   "cell_type": "markdown",
   "id": "94607313",
   "metadata": {},
   "source": [
    "## Abstract"
   ]
  },
  {
   "cell_type": "markdown",
   "id": "3998f904",
   "metadata": {},
   "source": [
    "what makes the price of a car high or low? and what factors can influence the price of a car? How can I as a customer or seller of a car know the range of car in market? To help know the selling_price of the used cars in the market, this data set has been collected from different locations and for different brands of cars. There are many factors that can affect the price, but we want to know the most influential factors. I worked in this dataset, clean and make sure of data quality, find the relationship between factors, select target and drop factors that don't have influnce on target. Then, start with EDA and explore the data, answring important questions and use data visualization to show the results. After that,find the best machine learning models to predict the selling price."
   ]
  },
  {
   "cell_type": "markdown",
   "id": "7c783439",
   "metadata": {},
   "source": [
    "## Overview and Motivation"
   ]
  },
  {
   "cell_type": "markdown",
   "id": "cf38f192",
   "metadata": {},
   "source": [
    "Buying or selling used cars is one of the situations that you or a friend of yours have. And to protect yourself from manipulation, you need a reference that will help you find the right price for a used car in the market.\n",
    "This project will help two sides. The first aspect is the seller, whether an individual or a company. This will help set a fair price and get the correct cars in their inventory depending on the most desirable ones. The second aspect is the buyer, as this project will show the price range of a particular car on the market.\n",
    "Besides, this project will answer important questions related to used cars and show their results. For example, \n",
    "Which factors are more important in deciding selling price?\n",
    "Which car brands are selling most?\n",
    "Are there specific region selling more?\n",
    "What is the relation between the selling price and factors as car brand, year, km_driven, region, fuel, seller_type, transmission, owner, mileage, max_power ,and seats"
   ]
  },
  {
   "cell_type": "markdown",
   "id": "8da41e33",
   "metadata": {},
   "source": [
    "## Related Work"
   ]
  },
  {
   "cell_type": "markdown",
   "id": "6e4413f9",
   "metadata": {},
   "source": [
    "Not all people have the ability to determine the correct range for a vehicle. Not everyone knows what factors can affect the price of a car. I'm one of those clients who've experienced this, and I've been on both sides that I mention in the overview and motivation part. Side One As a buyer, I've bought a car that's actually worth less than what I paid. The second aspect As a seller, I decided to sell my car and the dealer who bought the car convinced me that this is the price of the car in the market, on the contrary, he convinced me that he paid me more. Besides, I know many such stories that happened to my relatives and one of these stories reached in court due to price gouging. So, Having such a project will help a lot in solving this problem."
   ]
  },
  {
   "cell_type": "markdown",
   "id": "a71b15bf",
   "metadata": {},
   "source": [
    "## Initial Questions"
   ]
  },
  {
   "cell_type": "markdown",
   "id": "6c875895",
   "metadata": {},
   "source": [
    "Research Question: What is the expected price of the used car that has these features ( brand name: Ford, year: 2015, fuel: petrol, seat: 4.........)? The machine learning model will expect the price (target) depending on features ( year,km_driven,mileage,engine,max_power,seats, name,Region,seller_type,fuel,transmission,owner).\n",
    "Other Questions:\n",
    "Will increasing in number of seats, model, max power and mileage increase the selling price?\n",
    "Does the decrease in number of km driven and number of owner increase the selling price?\n",
    "Are km-driven and year the most effected variable?"
   ]
  },
  {
   "cell_type": "markdown",
   "id": "35917a61",
   "metadata": {},
   "source": [
    "## Data"
   ]
  },
  {
   "cell_type": "markdown",
   "id": "0cf6ef3a",
   "metadata": {},
   "source": [
    "The dataset to be used is the used cars dataset which contains 7906 instances and 18 columns. It contains numerical and categorical variables. The dataset is from Kaggle website: https://www.kaggle.com/datasets/shubham1kumar/usedcar-data?resource=download\n",
    "1. Finding Null values (There is no Null values)\n",
    "2. Define the data types of variables\n",
    "3. Define the unique values of each variables\n",
    "4. Drop, transfer Change some variables to be useful in the analysis"
   ]
  },
  {
   "cell_type": "markdown",
   "id": "92ac2984",
   "metadata": {},
   "source": [
    "####  1. Finding Null values"
   ]
  },
  {
   "cell_type": "code",
   "execution_count": 350,
   "id": "18e68b28",
   "metadata": {},
   "outputs": [
    {
     "name": "stdout",
     "output_type": "stream",
     "text": [
      "Shape of data=> (7906, 18)\n",
      "Sales_ID             0\n",
      "name                 0\n",
      "year                 0\n",
      "selling_price        0\n",
      "km_driven            0\n",
      "Region               0\n",
      "State or Province    0\n",
      "City                 0\n",
      "fuel                 0\n",
      "seller_type          0\n",
      "transmission         0\n",
      "owner                0\n",
      "mileage              0\n",
      "engine               0\n",
      "max_power            0\n",
      "torque               0\n",
      "seats                0\n",
      "sold                 0\n",
      "dtype: int64\n"
     ]
    },
    {
     "data": {
      "text/html": [
       "<div>\n",
       "<style scoped>\n",
       "    .dataframe tbody tr th:only-of-type {\n",
       "        vertical-align: middle;\n",
       "    }\n",
       "\n",
       "    .dataframe tbody tr th {\n",
       "        vertical-align: top;\n",
       "    }\n",
       "\n",
       "    .dataframe thead th {\n",
       "        text-align: right;\n",
       "    }\n",
       "</style>\n",
       "<table border=\"1\" class=\"dataframe\">\n",
       "  <thead>\n",
       "    <tr style=\"text-align: right;\">\n",
       "      <th></th>\n",
       "      <th>Sales_ID</th>\n",
       "      <th>name</th>\n",
       "      <th>year</th>\n",
       "      <th>selling_price</th>\n",
       "      <th>km_driven</th>\n",
       "      <th>Region</th>\n",
       "      <th>State or Province</th>\n",
       "      <th>City</th>\n",
       "      <th>fuel</th>\n",
       "      <th>seller_type</th>\n",
       "      <th>transmission</th>\n",
       "      <th>owner</th>\n",
       "      <th>mileage</th>\n",
       "      <th>engine</th>\n",
       "      <th>max_power</th>\n",
       "      <th>torque</th>\n",
       "      <th>seats</th>\n",
       "      <th>sold</th>\n",
       "    </tr>\n",
       "  </thead>\n",
       "  <tbody>\n",
       "    <tr>\n",
       "      <th>0</th>\n",
       "      <td>1</td>\n",
       "      <td>Maruti</td>\n",
       "      <td>2014</td>\n",
       "      <td>450000</td>\n",
       "      <td>145500</td>\n",
       "      <td>East</td>\n",
       "      <td>District of Columbia</td>\n",
       "      <td>Washington</td>\n",
       "      <td>Diesel</td>\n",
       "      <td>Individual</td>\n",
       "      <td>Manual</td>\n",
       "      <td>First_Owner</td>\n",
       "      <td>23.40</td>\n",
       "      <td>1248</td>\n",
       "      <td>74.00</td>\n",
       "      <td>190Nm@ 2000rpm</td>\n",
       "      <td>5</td>\n",
       "      <td>Y</td>\n",
       "    </tr>\n",
       "    <tr>\n",
       "      <th>1</th>\n",
       "      <td>2</td>\n",
       "      <td>Skoda</td>\n",
       "      <td>2014</td>\n",
       "      <td>370000</td>\n",
       "      <td>120000</td>\n",
       "      <td>East</td>\n",
       "      <td>New York</td>\n",
       "      <td>New York City</td>\n",
       "      <td>Diesel</td>\n",
       "      <td>Individual</td>\n",
       "      <td>Manual</td>\n",
       "      <td>Second_Owner</td>\n",
       "      <td>21.14</td>\n",
       "      <td>1498</td>\n",
       "      <td>103.52</td>\n",
       "      <td>250Nm@ 1500-2500rpm</td>\n",
       "      <td>5</td>\n",
       "      <td>Y</td>\n",
       "    </tr>\n",
       "    <tr>\n",
       "      <th>2</th>\n",
       "      <td>3</td>\n",
       "      <td>Honda</td>\n",
       "      <td>2006</td>\n",
       "      <td>158000</td>\n",
       "      <td>140000</td>\n",
       "      <td>Central</td>\n",
       "      <td>Illinois</td>\n",
       "      <td>Chicago</td>\n",
       "      <td>Petrol</td>\n",
       "      <td>Individual</td>\n",
       "      <td>Manual</td>\n",
       "      <td>Third_Owner</td>\n",
       "      <td>17.70</td>\n",
       "      <td>1497</td>\n",
       "      <td>78.00</td>\n",
       "      <td>12.7@ 2,700(kgm@ rpm)</td>\n",
       "      <td>5</td>\n",
       "      <td>Y</td>\n",
       "    </tr>\n",
       "    <tr>\n",
       "      <th>3</th>\n",
       "      <td>4</td>\n",
       "      <td>Hyundai</td>\n",
       "      <td>2010</td>\n",
       "      <td>225000</td>\n",
       "      <td>127000</td>\n",
       "      <td>Central</td>\n",
       "      <td>Illinois</td>\n",
       "      <td>Chicago</td>\n",
       "      <td>Diesel</td>\n",
       "      <td>Individual</td>\n",
       "      <td>Manual</td>\n",
       "      <td>First_Owner</td>\n",
       "      <td>23.00</td>\n",
       "      <td>1396</td>\n",
       "      <td>90.00</td>\n",
       "      <td>22.4 kgm at 1750-2750rpm</td>\n",
       "      <td>5</td>\n",
       "      <td>Y</td>\n",
       "    </tr>\n",
       "    <tr>\n",
       "      <th>4</th>\n",
       "      <td>5</td>\n",
       "      <td>Maruti</td>\n",
       "      <td>2007</td>\n",
       "      <td>130000</td>\n",
       "      <td>120000</td>\n",
       "      <td>East</td>\n",
       "      <td>New York</td>\n",
       "      <td>New York City</td>\n",
       "      <td>Petrol</td>\n",
       "      <td>Individual</td>\n",
       "      <td>Manual</td>\n",
       "      <td>First_Owner</td>\n",
       "      <td>16.10</td>\n",
       "      <td>1298</td>\n",
       "      <td>88.20</td>\n",
       "      <td>11.5@ 4,500(kgm@ rpm)</td>\n",
       "      <td>5</td>\n",
       "      <td>Y</td>\n",
       "    </tr>\n",
       "  </tbody>\n",
       "</table>\n",
       "</div>"
      ],
      "text/plain": [
       "   Sales_ID     name  year  selling_price  km_driven   Region  \\\n",
       "0         1   Maruti  2014         450000     145500     East   \n",
       "1         2    Skoda  2014         370000     120000     East   \n",
       "2         3    Honda  2006         158000     140000  Central   \n",
       "3         4  Hyundai  2010         225000     127000  Central   \n",
       "4         5   Maruti  2007         130000     120000     East   \n",
       "\n",
       "      State or Province           City    fuel seller_type transmission  \\\n",
       "0  District of Columbia     Washington  Diesel  Individual       Manual   \n",
       "1              New York  New York City  Diesel  Individual       Manual   \n",
       "2              Illinois        Chicago  Petrol  Individual       Manual   \n",
       "3              Illinois        Chicago  Diesel  Individual       Manual   \n",
       "4              New York  New York City  Petrol  Individual       Manual   \n",
       "\n",
       "          owner  mileage  engine  max_power                    torque  seats  \\\n",
       "0   First_Owner    23.40    1248      74.00            190Nm@ 2000rpm      5   \n",
       "1  Second_Owner    21.14    1498     103.52       250Nm@ 1500-2500rpm      5   \n",
       "2   Third_Owner    17.70    1497      78.00     12.7@ 2,700(kgm@ rpm)      5   \n",
       "3   First_Owner    23.00    1396      90.00  22.4 kgm at 1750-2750rpm      5   \n",
       "4   First_Owner    16.10    1298      88.20     11.5@ 4,500(kgm@ rpm)      5   \n",
       "\n",
       "  sold  \n",
       "0    Y  \n",
       "1    Y  \n",
       "2    Y  \n",
       "3    Y  \n",
       "4    Y  "
      ]
     },
     "execution_count": 350,
     "metadata": {},
     "output_type": "execute_result"
    }
   ],
   "source": [
    "import pandas as pd\n",
    "import numpy as np\n",
    "import matplotlib.pyplot as plt\n",
    "df = pd.read_table('UsedCarData.csv', sep=',', engine='python')\n",
    "print(\"Shape of data=>\",df.shape)\n",
    "print(df.isnull().sum())\n",
    "df.head(5)"
   ]
  },
  {
   "cell_type": "markdown",
   "id": "d9fedb6d",
   "metadata": {},
   "source": [
    "####  2. Define the data types of variables"
   ]
  },
  {
   "cell_type": "code",
   "execution_count": 330,
   "id": "c9759014",
   "metadata": {},
   "outputs": [
    {
     "data": {
      "text/plain": [
       "Sales_ID               int64\n",
       "name                  object\n",
       "year                   int64\n",
       "selling_price          int64\n",
       "km_driven              int64\n",
       "Region                object\n",
       "State or Province     object\n",
       "City                  object\n",
       "fuel                  object\n",
       "seller_type           object\n",
       "transmission          object\n",
       "owner                 object\n",
       "mileage              float64\n",
       "engine                 int64\n",
       "max_power            float64\n",
       "torque                object\n",
       "seats                  int64\n",
       "sold                  object\n",
       "dtype: object"
      ]
     },
     "execution_count": 330,
     "metadata": {},
     "output_type": "execute_result"
    }
   ],
   "source": [
    "df.dtypes"
   ]
  },
  {
   "cell_type": "markdown",
   "id": "905c3079",
   "metadata": {},
   "source": [
    "#### 3. Define the unique values of each variables"
   ]
  },
  {
   "cell_type": "code",
   "execution_count": 331,
   "id": "617ceb7a",
   "metadata": {},
   "outputs": [
    {
     "data": {
      "text/plain": [
       "Sales_ID             7906\n",
       "name                   31\n",
       "year                   27\n",
       "selling_price         670\n",
       "km_driven             898\n",
       "Region                  4\n",
       "State or Province      49\n",
       "City                 1310\n",
       "fuel                    4\n",
       "seller_type             3\n",
       "transmission            2\n",
       "owner                   5\n",
       "mileage               381\n",
       "engine                121\n",
       "max_power             318\n",
       "torque                441\n",
       "seats                   9\n",
       "sold                    2\n",
       "dtype: int64"
      ]
     },
     "execution_count": 331,
     "metadata": {},
     "output_type": "execute_result"
    }
   ],
   "source": [
    "df.nunique()"
   ]
  },
  {
   "cell_type": "markdown",
   "id": "01f48082",
   "metadata": {},
   "source": [
    "#### 4. Drop, transfer Change some variables to be useful in the analysis"
   ]
  },
  {
   "cell_type": "code",
   "execution_count": 351,
   "id": "9c7bcf87",
   "metadata": {},
   "outputs": [
    {
     "data": {
      "text/plain": [
       "Sales_ID              int64\n",
       "name                 object\n",
       "year                  int64\n",
       "selling_price         int64\n",
       "km_driven             int64\n",
       "Region               object\n",
       "State or Province    object\n",
       "City                 object\n",
       "fuel                 object\n",
       "seller_type          object\n",
       "transmission         object\n",
       "owner                object\n",
       "mileage               int32\n",
       "engine                int64\n",
       "max_power             int32\n",
       "seats                 int64\n",
       "sold                  int32\n",
       "dtype: object"
      ]
     },
     "execution_count": 351,
     "metadata": {},
     "output_type": "execute_result"
    }
   ],
   "source": [
    "#Drop torque\n",
    "df = df.drop(['torque'], axis = 1)\n",
    "#Sold\n",
    "df.loc[df['sold'] == 'Y', 'sold'] = 1\n",
    "df.loc[df['sold'] == 'N', 'sold'] = 0\n",
    "#Transfer to integer\n",
    "df['mileage']=df['mileage'].astype(int)\n",
    "df['max_power']=df['max_power'].astype(int)\n",
    "df['sold']=df['sold'].astype(int)\n",
    "df.dtypes"
   ]
  },
  {
   "cell_type": "markdown",
   "id": "2f2a540a",
   "metadata": {},
   "source": [
    "## Exploratory Data Analysis"
   ]
  },
  {
   "cell_type": "markdown",
   "id": "2fa50cd5",
   "metadata": {},
   "source": [
    "I used multiple graphs to explore and understand the data, there is a matrix, bar chart, pie chart, scatter plot, and tables. These graphs are suitable for describing and showing the result of the data. This section is divided into two parts. In the first part, I focus on data discovery. Each graph answers a titled question or explains a titled point. In the second part, there are the target and the impacte factors. Each graph in the second part shows the relationship between the target (price) and the impact factors."
   ]
  },
  {
   "cell_type": "markdown",
   "id": "46dede28",
   "metadata": {},
   "source": [
    "### 1. Discover the dataset"
   ]
  },
  {
   "cell_type": "markdown",
   "id": "80e1815f",
   "metadata": {},
   "source": [
    "#### Data Statistics"
   ]
  },
  {
   "cell_type": "code",
   "execution_count": 3,
   "id": "23ac42f4",
   "metadata": {},
   "outputs": [
    {
     "data": {
      "text/html": [
       "<div>\n",
       "<style scoped>\n",
       "    .dataframe tbody tr th:only-of-type {\n",
       "        vertical-align: middle;\n",
       "    }\n",
       "\n",
       "    .dataframe tbody tr th {\n",
       "        vertical-align: top;\n",
       "    }\n",
       "\n",
       "    .dataframe thead th {\n",
       "        text-align: right;\n",
       "    }\n",
       "</style>\n",
       "<table border=\"1\" class=\"dataframe\">\n",
       "  <thead>\n",
       "    <tr style=\"text-align: right;\">\n",
       "      <th></th>\n",
       "      <th>Sales_ID</th>\n",
       "      <th>year</th>\n",
       "      <th>selling_price</th>\n",
       "      <th>km_driven</th>\n",
       "      <th>mileage</th>\n",
       "      <th>engine</th>\n",
       "      <th>max_power</th>\n",
       "      <th>seats</th>\n",
       "      <th>sold</th>\n",
       "    </tr>\n",
       "  </thead>\n",
       "  <tbody>\n",
       "    <tr>\n",
       "      <th>count</th>\n",
       "      <td>7906.000000</td>\n",
       "      <td>7906.000000</td>\n",
       "      <td>7.906000e+03</td>\n",
       "      <td>7.906000e+03</td>\n",
       "      <td>7906.000000</td>\n",
       "      <td>7906.000000</td>\n",
       "      <td>7906.000000</td>\n",
       "      <td>7906.000000</td>\n",
       "      <td>7906.000000</td>\n",
       "    </tr>\n",
       "    <tr>\n",
       "      <th>mean</th>\n",
       "      <td>4070.106248</td>\n",
       "      <td>2013.983936</td>\n",
       "      <td>6.498137e+05</td>\n",
       "      <td>6.918866e+04</td>\n",
       "      <td>18.981027</td>\n",
       "      <td>1458.708829</td>\n",
       "      <td>91.271060</td>\n",
       "      <td>5.416393</td>\n",
       "      <td>0.252972</td>\n",
       "    </tr>\n",
       "    <tr>\n",
       "      <th>std</th>\n",
       "      <td>2345.770159</td>\n",
       "      <td>3.863695</td>\n",
       "      <td>8.135827e+05</td>\n",
       "      <td>5.679230e+04</td>\n",
       "      <td>4.064364</td>\n",
       "      <td>503.893057</td>\n",
       "      <td>35.732781</td>\n",
       "      <td>0.959208</td>\n",
       "      <td>0.434743</td>\n",
       "    </tr>\n",
       "    <tr>\n",
       "      <th>min</th>\n",
       "      <td>1.000000</td>\n",
       "      <td>1994.000000</td>\n",
       "      <td>2.999900e+04</td>\n",
       "      <td>1.000000e+00</td>\n",
       "      <td>0.000000</td>\n",
       "      <td>624.000000</td>\n",
       "      <td>32.000000</td>\n",
       "      <td>2.000000</td>\n",
       "      <td>0.000000</td>\n",
       "    </tr>\n",
       "    <tr>\n",
       "      <th>25%</th>\n",
       "      <td>2037.250000</td>\n",
       "      <td>2012.000000</td>\n",
       "      <td>2.700000e+05</td>\n",
       "      <td>3.500000e+04</td>\n",
       "      <td>16.000000</td>\n",
       "      <td>1197.000000</td>\n",
       "      <td>68.000000</td>\n",
       "      <td>5.000000</td>\n",
       "      <td>0.000000</td>\n",
       "    </tr>\n",
       "    <tr>\n",
       "      <th>50%</th>\n",
       "      <td>4076.500000</td>\n",
       "      <td>2015.000000</td>\n",
       "      <td>4.500000e+05</td>\n",
       "      <td>6.000000e+04</td>\n",
       "      <td>19.000000</td>\n",
       "      <td>1248.000000</td>\n",
       "      <td>82.000000</td>\n",
       "      <td>5.000000</td>\n",
       "      <td>0.000000</td>\n",
       "    </tr>\n",
       "    <tr>\n",
       "      <th>75%</th>\n",
       "      <td>6102.000000</td>\n",
       "      <td>2017.000000</td>\n",
       "      <td>6.900000e+05</td>\n",
       "      <td>9.542500e+04</td>\n",
       "      <td>22.000000</td>\n",
       "      <td>1582.000000</td>\n",
       "      <td>102.000000</td>\n",
       "      <td>5.000000</td>\n",
       "      <td>1.000000</td>\n",
       "    </tr>\n",
       "    <tr>\n",
       "      <th>max</th>\n",
       "      <td>8128.000000</td>\n",
       "      <td>2020.000000</td>\n",
       "      <td>1.000000e+07</td>\n",
       "      <td>2.360457e+06</td>\n",
       "      <td>42.000000</td>\n",
       "      <td>3604.000000</td>\n",
       "      <td>400.000000</td>\n",
       "      <td>14.000000</td>\n",
       "      <td>1.000000</td>\n",
       "    </tr>\n",
       "  </tbody>\n",
       "</table>\n",
       "</div>"
      ],
      "text/plain": [
       "          Sales_ID         year  selling_price     km_driven      mileage  \\\n",
       "count  7906.000000  7906.000000   7.906000e+03  7.906000e+03  7906.000000   \n",
       "mean   4070.106248  2013.983936   6.498137e+05  6.918866e+04    18.981027   \n",
       "std    2345.770159     3.863695   8.135827e+05  5.679230e+04     4.064364   \n",
       "min       1.000000  1994.000000   2.999900e+04  1.000000e+00     0.000000   \n",
       "25%    2037.250000  2012.000000   2.700000e+05  3.500000e+04    16.000000   \n",
       "50%    4076.500000  2015.000000   4.500000e+05  6.000000e+04    19.000000   \n",
       "75%    6102.000000  2017.000000   6.900000e+05  9.542500e+04    22.000000   \n",
       "max    8128.000000  2020.000000   1.000000e+07  2.360457e+06    42.000000   \n",
       "\n",
       "            engine    max_power        seats         sold  \n",
       "count  7906.000000  7906.000000  7906.000000  7906.000000  \n",
       "mean   1458.708829    91.271060     5.416393     0.252972  \n",
       "std     503.893057    35.732781     0.959208     0.434743  \n",
       "min     624.000000    32.000000     2.000000     0.000000  \n",
       "25%    1197.000000    68.000000     5.000000     0.000000  \n",
       "50%    1248.000000    82.000000     5.000000     0.000000  \n",
       "75%    1582.000000   102.000000     5.000000     1.000000  \n",
       "max    3604.000000   400.000000    14.000000     1.000000  "
      ]
     },
     "execution_count": 3,
     "metadata": {},
     "output_type": "execute_result"
    }
   ],
   "source": [
    "df.describe()"
   ]
  },
  {
   "cell_type": "markdown",
   "id": "b8db778d",
   "metadata": {},
   "source": [
    "#### Relation Between Variables"
   ]
  },
  {
   "cell_type": "code",
   "execution_count": 9,
   "id": "649fe90b",
   "metadata": {},
   "outputs": [
    {
     "data": {
      "image/png": "[encoded data removed]",
      "text/plain": [
       "<Figure size 720x720 with 2 Axes>"
      ]
     },
     "metadata": {
      "needs_background": "light"
     },
     "output_type": "display_data"
    }
   ],
   "source": [
    "import seaborn as sns\n",
    "import matplotlib.pyplot as plt\n",
    "f,ax=plt.subplots(figsize=(10,10))\n",
    "sns.heatmap(df.corr(),annot=True,linewidths=1,linecolor=\"black\",fmt=\".5f\",ax=ax)\n",
    "plt.show()"
   ]
  },
  {
   "cell_type": "markdown",
   "id": "6e2a30cc",
   "metadata": {},
   "source": [
    "#### What are the most brand in the dataset?"
   ]
  },
  {
   "cell_type": "code",
   "execution_count": 5,
   "id": "235bff56",
   "metadata": {},
   "outputs": [
    {
     "name": "stdout",
     "output_type": "stream",
     "text": [
      "Maruti        2367\n",
      "Hyundai       1360\n",
      "Mahindra       758\n",
      "Tata           719\n",
      "Honda          466\n",
      "Toyota         452\n",
      "Ford           388\n",
      "Chevrolet      230\n",
      "Renault        228\n",
      "Volkswagen     185\n",
      "BMW            118\n",
      "Skoda          104\n",
      "Nissan          81\n",
      "Jaguar          71\n",
      "Volvo           67\n",
      "Datsun          65\n",
      "Mercedes        54\n",
      "Fiat            41\n",
      "Audi            40\n",
      "Lexus           34\n",
      "Jeep            31\n",
      "Mitsubishi      14\n",
      "Force            6\n",
      "Land             6\n",
      "Isuzu            5\n",
      "Ambassador       4\n",
      "Kia              4\n",
      "MG               3\n",
      "Daewoo           3\n",
      "Ashok            1\n",
      "Opel             1\n",
      "Name: name, dtype: int64\n"
     ]
    },
    {
     "data": {
      "image/png": "[encoded data removed]",
      "text/plain": [
       "<Figure size 2160x360 with 1 Axes>"
      ]
     },
     "metadata": {
      "needs_background": "light"
     },
     "output_type": "display_data"
    }
   ],
   "source": [
    "Brandcount=df[\"name\"].value_counts()\n",
    "print (Brandcount)\n",
    "brands = np.array(Brandcount)\n",
    "x = list(brands)\n",
    "y = df.name.value_counts().index\n",
    "plt.figure(figsize=(30,5))\n",
    "sns.barplot(x = y,y = x)\n",
    "plt.xlabel(\"Car Brand\")\n",
    "plt.ylabel(\"Numbers\")\n",
    "plt.title(\"The Most Brands\")\n",
    "plt.show()"
   ]
  },
  {
   "cell_type": "markdown",
   "id": "d0e17da0",
   "metadata": {},
   "source": [
    "#### Number of Sold Cars for each Brand in the dataset"
   ]
  },
  {
   "cell_type": "code",
   "execution_count": 26,
   "id": "664b4f5d",
   "metadata": {},
   "outputs": [
    {
     "data": {
      "text/html": [
       "<div>\n",
       "<style scoped>\n",
       "    .dataframe tbody tr th:only-of-type {\n",
       "        vertical-align: middle;\n",
       "    }\n",
       "\n",
       "    .dataframe tbody tr th {\n",
       "        vertical-align: top;\n",
       "    }\n",
       "\n",
       "    .dataframe thead th {\n",
       "        text-align: right;\n",
       "    }\n",
       "</style>\n",
       "<table border=\"1\" class=\"dataframe\">\n",
       "  <thead>\n",
       "    <tr style=\"text-align: right;\">\n",
       "      <th></th>\n",
       "      <th>name</th>\n",
       "      <th>sold</th>\n",
       "    </tr>\n",
       "  </thead>\n",
       "  <tbody>\n",
       "    <tr>\n",
       "      <th>17</th>\n",
       "      <td>Maruti</td>\n",
       "      <td>597</td>\n",
       "    </tr>\n",
       "    <tr>\n",
       "      <th>9</th>\n",
       "      <td>Hyundai</td>\n",
       "      <td>332</td>\n",
       "    </tr>\n",
       "    <tr>\n",
       "      <th>16</th>\n",
       "      <td>Mahindra</td>\n",
       "      <td>201</td>\n",
       "    </tr>\n",
       "    <tr>\n",
       "      <th>23</th>\n",
       "      <td>Tata</td>\n",
       "      <td>178</td>\n",
       "    </tr>\n",
       "    <tr>\n",
       "      <th>24</th>\n",
       "      <td>Toyota</td>\n",
       "      <td>126</td>\n",
       "    </tr>\n",
       "    <tr>\n",
       "      <th>8</th>\n",
       "      <td>Honda</td>\n",
       "      <td>124</td>\n",
       "    </tr>\n",
       "    <tr>\n",
       "      <th>7</th>\n",
       "      <td>Ford</td>\n",
       "      <td>92</td>\n",
       "    </tr>\n",
       "    <tr>\n",
       "      <th>2</th>\n",
       "      <td>Chevrolet</td>\n",
       "      <td>56</td>\n",
       "    </tr>\n",
       "    <tr>\n",
       "      <th>21</th>\n",
       "      <td>Renault</td>\n",
       "      <td>56</td>\n",
       "    </tr>\n",
       "    <tr>\n",
       "      <th>25</th>\n",
       "      <td>Volkswagen</td>\n",
       "      <td>39</td>\n",
       "    </tr>\n",
       "    <tr>\n",
       "      <th>20</th>\n",
       "      <td>Nissan</td>\n",
       "      <td>33</td>\n",
       "    </tr>\n",
       "    <tr>\n",
       "      <th>1</th>\n",
       "      <td>BMW</td>\n",
       "      <td>29</td>\n",
       "    </tr>\n",
       "    <tr>\n",
       "      <th>10</th>\n",
       "      <td>Jaguar</td>\n",
       "      <td>21</td>\n",
       "    </tr>\n",
       "    <tr>\n",
       "      <th>22</th>\n",
       "      <td>Skoda</td>\n",
       "      <td>20</td>\n",
       "    </tr>\n",
       "    <tr>\n",
       "      <th>26</th>\n",
       "      <td>Volvo</td>\n",
       "      <td>19</td>\n",
       "    </tr>\n",
       "    <tr>\n",
       "      <th>4</th>\n",
       "      <td>Datsun</td>\n",
       "      <td>16</td>\n",
       "    </tr>\n",
       "    <tr>\n",
       "      <th>18</th>\n",
       "      <td>Mercedes</td>\n",
       "      <td>16</td>\n",
       "    </tr>\n",
       "    <tr>\n",
       "      <th>14</th>\n",
       "      <td>Lexus</td>\n",
       "      <td>11</td>\n",
       "    </tr>\n",
       "    <tr>\n",
       "      <th>0</th>\n",
       "      <td>Audi</td>\n",
       "      <td>9</td>\n",
       "    </tr>\n",
       "    <tr>\n",
       "      <th>11</th>\n",
       "      <td>Jeep</td>\n",
       "      <td>9</td>\n",
       "    </tr>\n",
       "    <tr>\n",
       "      <th>5</th>\n",
       "      <td>Fiat</td>\n",
       "      <td>6</td>\n",
       "    </tr>\n",
       "    <tr>\n",
       "      <th>19</th>\n",
       "      <td>Mitsubishi</td>\n",
       "      <td>3</td>\n",
       "    </tr>\n",
       "    <tr>\n",
       "      <th>15</th>\n",
       "      <td>MG</td>\n",
       "      <td>2</td>\n",
       "    </tr>\n",
       "    <tr>\n",
       "      <th>12</th>\n",
       "      <td>Kia</td>\n",
       "      <td>2</td>\n",
       "    </tr>\n",
       "    <tr>\n",
       "      <th>6</th>\n",
       "      <td>Force</td>\n",
       "      <td>1</td>\n",
       "    </tr>\n",
       "    <tr>\n",
       "      <th>3</th>\n",
       "      <td>Daewoo</td>\n",
       "      <td>1</td>\n",
       "    </tr>\n",
       "    <tr>\n",
       "      <th>13</th>\n",
       "      <td>Land</td>\n",
       "      <td>1</td>\n",
       "    </tr>\n",
       "  </tbody>\n",
       "</table>\n",
       "</div>"
      ],
      "text/plain": [
       "          name  sold\n",
       "17      Maruti   597\n",
       "9      Hyundai   332\n",
       "16    Mahindra   201\n",
       "23        Tata   178\n",
       "24      Toyota   126\n",
       "8        Honda   124\n",
       "7         Ford    92\n",
       "2    Chevrolet    56\n",
       "21     Renault    56\n",
       "25  Volkswagen    39\n",
       "20      Nissan    33\n",
       "1          BMW    29\n",
       "10      Jaguar    21\n",
       "22       Skoda    20\n",
       "26       Volvo    19\n",
       "4       Datsun    16\n",
       "18    Mercedes    16\n",
       "14       Lexus    11\n",
       "0         Audi     9\n",
       "11        Jeep     9\n",
       "5         Fiat     6\n",
       "19  Mitsubishi     3\n",
       "15          MG     2\n",
       "12         Kia     2\n",
       "6        Force     1\n",
       "3       Daewoo     1\n",
       "13        Land     1"
      ]
     },
     "execution_count": 26,
     "metadata": {},
     "output_type": "execute_result"
    }
   ],
   "source": [
    "df1=df[df['sold']==1]\n",
    "df1[['name', 'sold']].groupby(['name'], as_index=False).count().sort_values(by='sold', ascending=False)"
   ]
  },
  {
   "cell_type": "markdown",
   "id": "51b96b19",
   "metadata": {},
   "source": [
    "#### Number of Not Sold cars for each brand in the dataset"
   ]
  },
  {
   "cell_type": "code",
   "execution_count": 27,
   "id": "8d43611f",
   "metadata": {},
   "outputs": [
    {
     "data": {
      "text/html": [
       "<div>\n",
       "<style scoped>\n",
       "    .dataframe tbody tr th:only-of-type {\n",
       "        vertical-align: middle;\n",
       "    }\n",
       "\n",
       "    .dataframe tbody tr th {\n",
       "        vertical-align: top;\n",
       "    }\n",
       "\n",
       "    .dataframe thead th {\n",
       "        text-align: right;\n",
       "    }\n",
       "</style>\n",
       "<table border=\"1\" class=\"dataframe\">\n",
       "  <thead>\n",
       "    <tr style=\"text-align: right;\">\n",
       "      <th></th>\n",
       "      <th>name</th>\n",
       "      <th>sold</th>\n",
       "    </tr>\n",
       "  </thead>\n",
       "  <tbody>\n",
       "    <tr>\n",
       "      <th>20</th>\n",
       "      <td>Maruti</td>\n",
       "      <td>1770</td>\n",
       "    </tr>\n",
       "    <tr>\n",
       "      <th>11</th>\n",
       "      <td>Hyundai</td>\n",
       "      <td>1028</td>\n",
       "    </tr>\n",
       "    <tr>\n",
       "      <th>19</th>\n",
       "      <td>Mahindra</td>\n",
       "      <td>557</td>\n",
       "    </tr>\n",
       "    <tr>\n",
       "      <th>27</th>\n",
       "      <td>Tata</td>\n",
       "      <td>541</td>\n",
       "    </tr>\n",
       "    <tr>\n",
       "      <th>10</th>\n",
       "      <td>Honda</td>\n",
       "      <td>342</td>\n",
       "    </tr>\n",
       "    <tr>\n",
       "      <th>28</th>\n",
       "      <td>Toyota</td>\n",
       "      <td>326</td>\n",
       "    </tr>\n",
       "    <tr>\n",
       "      <th>9</th>\n",
       "      <td>Ford</td>\n",
       "      <td>296</td>\n",
       "    </tr>\n",
       "    <tr>\n",
       "      <th>4</th>\n",
       "      <td>Chevrolet</td>\n",
       "      <td>174</td>\n",
       "    </tr>\n",
       "    <tr>\n",
       "      <th>25</th>\n",
       "      <td>Renault</td>\n",
       "      <td>172</td>\n",
       "    </tr>\n",
       "    <tr>\n",
       "      <th>29</th>\n",
       "      <td>Volkswagen</td>\n",
       "      <td>146</td>\n",
       "    </tr>\n",
       "    <tr>\n",
       "      <th>3</th>\n",
       "      <td>BMW</td>\n",
       "      <td>89</td>\n",
       "    </tr>\n",
       "    <tr>\n",
       "      <th>26</th>\n",
       "      <td>Skoda</td>\n",
       "      <td>84</td>\n",
       "    </tr>\n",
       "    <tr>\n",
       "      <th>13</th>\n",
       "      <td>Jaguar</td>\n",
       "      <td>50</td>\n",
       "    </tr>\n",
       "    <tr>\n",
       "      <th>6</th>\n",
       "      <td>Datsun</td>\n",
       "      <td>49</td>\n",
       "    </tr>\n",
       "    <tr>\n",
       "      <th>23</th>\n",
       "      <td>Nissan</td>\n",
       "      <td>48</td>\n",
       "    </tr>\n",
       "    <tr>\n",
       "      <th>30</th>\n",
       "      <td>Volvo</td>\n",
       "      <td>48</td>\n",
       "    </tr>\n",
       "    <tr>\n",
       "      <th>21</th>\n",
       "      <td>Mercedes</td>\n",
       "      <td>38</td>\n",
       "    </tr>\n",
       "    <tr>\n",
       "      <th>7</th>\n",
       "      <td>Fiat</td>\n",
       "      <td>35</td>\n",
       "    </tr>\n",
       "    <tr>\n",
       "      <th>2</th>\n",
       "      <td>Audi</td>\n",
       "      <td>31</td>\n",
       "    </tr>\n",
       "    <tr>\n",
       "      <th>17</th>\n",
       "      <td>Lexus</td>\n",
       "      <td>23</td>\n",
       "    </tr>\n",
       "    <tr>\n",
       "      <th>14</th>\n",
       "      <td>Jeep</td>\n",
       "      <td>22</td>\n",
       "    </tr>\n",
       "    <tr>\n",
       "      <th>22</th>\n",
       "      <td>Mitsubishi</td>\n",
       "      <td>11</td>\n",
       "    </tr>\n",
       "    <tr>\n",
       "      <th>16</th>\n",
       "      <td>Land</td>\n",
       "      <td>5</td>\n",
       "    </tr>\n",
       "    <tr>\n",
       "      <th>8</th>\n",
       "      <td>Force</td>\n",
       "      <td>5</td>\n",
       "    </tr>\n",
       "    <tr>\n",
       "      <th>12</th>\n",
       "      <td>Isuzu</td>\n",
       "      <td>5</td>\n",
       "    </tr>\n",
       "    <tr>\n",
       "      <th>0</th>\n",
       "      <td>Ambassador</td>\n",
       "      <td>4</td>\n",
       "    </tr>\n",
       "    <tr>\n",
       "      <th>5</th>\n",
       "      <td>Daewoo</td>\n",
       "      <td>2</td>\n",
       "    </tr>\n",
       "    <tr>\n",
       "      <th>15</th>\n",
       "      <td>Kia</td>\n",
       "      <td>2</td>\n",
       "    </tr>\n",
       "    <tr>\n",
       "      <th>24</th>\n",
       "      <td>Opel</td>\n",
       "      <td>1</td>\n",
       "    </tr>\n",
       "    <tr>\n",
       "      <th>18</th>\n",
       "      <td>MG</td>\n",
       "      <td>1</td>\n",
       "    </tr>\n",
       "    <tr>\n",
       "      <th>1</th>\n",
       "      <td>Ashok</td>\n",
       "      <td>1</td>\n",
       "    </tr>\n",
       "  </tbody>\n",
       "</table>\n",
       "</div>"
      ],
      "text/plain": [
       "          name  sold\n",
       "20      Maruti  1770\n",
       "11     Hyundai  1028\n",
       "19    Mahindra   557\n",
       "27        Tata   541\n",
       "10       Honda   342\n",
       "28      Toyota   326\n",
       "9         Ford   296\n",
       "4    Chevrolet   174\n",
       "25     Renault   172\n",
       "29  Volkswagen   146\n",
       "3          BMW    89\n",
       "26       Skoda    84\n",
       "13      Jaguar    50\n",
       "6       Datsun    49\n",
       "23      Nissan    48\n",
       "30       Volvo    48\n",
       "21    Mercedes    38\n",
       "7         Fiat    35\n",
       "2         Audi    31\n",
       "17       Lexus    23\n",
       "14        Jeep    22\n",
       "22  Mitsubishi    11\n",
       "16        Land     5\n",
       "8        Force     5\n",
       "12       Isuzu     5\n",
       "0   Ambassador     4\n",
       "5       Daewoo     2\n",
       "15         Kia     2\n",
       "24        Opel     1\n",
       "18          MG     1\n",
       "1        Ashok     1"
      ]
     },
     "execution_count": 27,
     "metadata": {},
     "output_type": "execute_result"
    }
   ],
   "source": [
    "df1=df[df['sold']==0]\n",
    "df1[['name', 'sold']].groupby(['name'], as_index=False).count().sort_values(by='sold', ascending=False)"
   ]
  },
  {
   "cell_type": "markdown",
   "id": "8aafe821",
   "metadata": {},
   "source": [
    "#### What are most Model in the dataset?"
   ]
  },
  {
   "cell_type": "code",
   "execution_count": 28,
   "id": "772b3e40",
   "metadata": {},
   "outputs": [
    {
     "name": "stdout",
     "output_type": "stream",
     "text": [
      "2017    1010\n",
      "2016     856\n",
      "2018     806\n",
      "2015     775\n",
      "2013     668\n",
      "2012     621\n",
      "2014     620\n",
      "2019     583\n",
      "2011     570\n",
      "2010     375\n",
      "2009     231\n",
      "2008     201\n",
      "2007     173\n",
      "2006     102\n",
      "2005      76\n",
      "2020      74\n",
      "2004      51\n",
      "2003      37\n",
      "2002      19\n",
      "2000      15\n",
      "1999      14\n",
      "1997       9\n",
      "1998       9\n",
      "2001       6\n",
      "1996       2\n",
      "1994       2\n",
      "1995       1\n",
      "Name: year, dtype: int64\n"
     ]
    },
    {
     "data": {
      "image/png": "[encoded data removed]",
      "text/plain": [
       "<Figure size 2160x360 with 1 Axes>"
      ]
     },
     "metadata": {
      "needs_background": "light"
     },
     "output_type": "display_data"
    }
   ],
   "source": [
    "Yearcar=df[\"year\"].value_counts()\n",
    "print (Yearcar)\n",
    "years = np.array(Yearcar)\n",
    "x = list(years)\n",
    "y = df.year.value_counts().index\n",
    "plt.figure(figsize=(30,5))\n",
    "sns.barplot(x = y,y = x)\n",
    "plt.xlabel(\"Year Make\")\n",
    "plt.ylabel(\"Numbers\")\n",
    "plt.title(\"The Most Year Make\")\n",
    "plt.show()"
   ]
  },
  {
   "cell_type": "markdown",
   "id": "69699699",
   "metadata": {},
   "source": [
    "#### Number of Sold car for each Model in the dataset"
   ]
  },
  {
   "cell_type": "code",
   "execution_count": 29,
   "id": "9c28c86a",
   "metadata": {},
   "outputs": [
    {
     "data": {
      "text/html": [
       "<div>\n",
       "<style scoped>\n",
       "    .dataframe tbody tr th:only-of-type {\n",
       "        vertical-align: middle;\n",
       "    }\n",
       "\n",
       "    .dataframe tbody tr th {\n",
       "        vertical-align: top;\n",
       "    }\n",
       "\n",
       "    .dataframe thead th {\n",
       "        text-align: right;\n",
       "    }\n",
       "</style>\n",
       "<table border=\"1\" class=\"dataframe\">\n",
       "  <thead>\n",
       "    <tr style=\"text-align: right;\">\n",
       "      <th></th>\n",
       "      <th>year</th>\n",
       "      <th>sold</th>\n",
       "    </tr>\n",
       "  </thead>\n",
       "  <tbody>\n",
       "    <tr>\n",
       "      <th>19</th>\n",
       "      <td>2017</td>\n",
       "      <td>256</td>\n",
       "    </tr>\n",
       "    <tr>\n",
       "      <th>18</th>\n",
       "      <td>2016</td>\n",
       "      <td>225</td>\n",
       "    </tr>\n",
       "    <tr>\n",
       "      <th>17</th>\n",
       "      <td>2015</td>\n",
       "      <td>200</td>\n",
       "    </tr>\n",
       "    <tr>\n",
       "      <th>20</th>\n",
       "      <td>2018</td>\n",
       "      <td>187</td>\n",
       "    </tr>\n",
       "    <tr>\n",
       "      <th>15</th>\n",
       "      <td>2013</td>\n",
       "      <td>174</td>\n",
       "    </tr>\n",
       "    <tr>\n",
       "      <th>14</th>\n",
       "      <td>2012</td>\n",
       "      <td>159</td>\n",
       "    </tr>\n",
       "    <tr>\n",
       "      <th>13</th>\n",
       "      <td>2011</td>\n",
       "      <td>155</td>\n",
       "    </tr>\n",
       "    <tr>\n",
       "      <th>21</th>\n",
       "      <td>2019</td>\n",
       "      <td>154</td>\n",
       "    </tr>\n",
       "    <tr>\n",
       "      <th>16</th>\n",
       "      <td>2014</td>\n",
       "      <td>144</td>\n",
       "    </tr>\n",
       "    <tr>\n",
       "      <th>12</th>\n",
       "      <td>2010</td>\n",
       "      <td>96</td>\n",
       "    </tr>\n",
       "    <tr>\n",
       "      <th>11</th>\n",
       "      <td>2009</td>\n",
       "      <td>71</td>\n",
       "    </tr>\n",
       "    <tr>\n",
       "      <th>10</th>\n",
       "      <td>2008</td>\n",
       "      <td>43</td>\n",
       "    </tr>\n",
       "    <tr>\n",
       "      <th>9</th>\n",
       "      <td>2007</td>\n",
       "      <td>28</td>\n",
       "    </tr>\n",
       "    <tr>\n",
       "      <th>7</th>\n",
       "      <td>2005</td>\n",
       "      <td>25</td>\n",
       "    </tr>\n",
       "    <tr>\n",
       "      <th>8</th>\n",
       "      <td>2006</td>\n",
       "      <td>23</td>\n",
       "    </tr>\n",
       "    <tr>\n",
       "      <th>22</th>\n",
       "      <td>2020</td>\n",
       "      <td>19</td>\n",
       "    </tr>\n",
       "    <tr>\n",
       "      <th>6</th>\n",
       "      <td>2004</td>\n",
       "      <td>13</td>\n",
       "    </tr>\n",
       "    <tr>\n",
       "      <th>5</th>\n",
       "      <td>2003</td>\n",
       "      <td>10</td>\n",
       "    </tr>\n",
       "    <tr>\n",
       "      <th>4</th>\n",
       "      <td>2002</td>\n",
       "      <td>7</td>\n",
       "    </tr>\n",
       "    <tr>\n",
       "      <th>2</th>\n",
       "      <td>2000</td>\n",
       "      <td>5</td>\n",
       "    </tr>\n",
       "    <tr>\n",
       "      <th>1</th>\n",
       "      <td>1999</td>\n",
       "      <td>3</td>\n",
       "    </tr>\n",
       "    <tr>\n",
       "      <th>3</th>\n",
       "      <td>2001</td>\n",
       "      <td>2</td>\n",
       "    </tr>\n",
       "    <tr>\n",
       "      <th>0</th>\n",
       "      <td>1994</td>\n",
       "      <td>1</td>\n",
       "    </tr>\n",
       "  </tbody>\n",
       "</table>\n",
       "</div>"
      ],
      "text/plain": [
       "    year  sold\n",
       "19  2017   256\n",
       "18  2016   225\n",
       "17  2015   200\n",
       "20  2018   187\n",
       "15  2013   174\n",
       "14  2012   159\n",
       "13  2011   155\n",
       "21  2019   154\n",
       "16  2014   144\n",
       "12  2010    96\n",
       "11  2009    71\n",
       "10  2008    43\n",
       "9   2007    28\n",
       "7   2005    25\n",
       "8   2006    23\n",
       "22  2020    19\n",
       "6   2004    13\n",
       "5   2003    10\n",
       "4   2002     7\n",
       "2   2000     5\n",
       "1   1999     3\n",
       "3   2001     2\n",
       "0   1994     1"
      ]
     },
     "execution_count": 29,
     "metadata": {},
     "output_type": "execute_result"
    }
   ],
   "source": [
    "df1=df[df['sold']==1]\n",
    "df1[['year', 'sold']].groupby(['year'], as_index=False).count().sort_values(by='sold', ascending=False)"
   ]
  },
  {
   "cell_type": "markdown",
   "id": "ac55daf3",
   "metadata": {},
   "source": [
    "#### Number of Not Sold car for each Model in the dataset"
   ]
  },
  {
   "cell_type": "code",
   "execution_count": 30,
   "id": "561b0119",
   "metadata": {},
   "outputs": [
    {
     "data": {
      "text/html": [
       "<div>\n",
       "<style scoped>\n",
       "    .dataframe tbody tr th:only-of-type {\n",
       "        vertical-align: middle;\n",
       "    }\n",
       "\n",
       "    .dataframe tbody tr th {\n",
       "        vertical-align: top;\n",
       "    }\n",
       "\n",
       "    .dataframe thead th {\n",
       "        text-align: right;\n",
       "    }\n",
       "</style>\n",
       "<table border=\"1\" class=\"dataframe\">\n",
       "  <thead>\n",
       "    <tr style=\"text-align: right;\">\n",
       "      <th></th>\n",
       "      <th>year</th>\n",
       "      <th>sold</th>\n",
       "    </tr>\n",
       "  </thead>\n",
       "  <tbody>\n",
       "    <tr>\n",
       "      <th>23</th>\n",
       "      <td>2017</td>\n",
       "      <td>754</td>\n",
       "    </tr>\n",
       "    <tr>\n",
       "      <th>22</th>\n",
       "      <td>2016</td>\n",
       "      <td>631</td>\n",
       "    </tr>\n",
       "    <tr>\n",
       "      <th>24</th>\n",
       "      <td>2018</td>\n",
       "      <td>619</td>\n",
       "    </tr>\n",
       "    <tr>\n",
       "      <th>21</th>\n",
       "      <td>2015</td>\n",
       "      <td>575</td>\n",
       "    </tr>\n",
       "    <tr>\n",
       "      <th>19</th>\n",
       "      <td>2013</td>\n",
       "      <td>494</td>\n",
       "    </tr>\n",
       "    <tr>\n",
       "      <th>20</th>\n",
       "      <td>2014</td>\n",
       "      <td>476</td>\n",
       "    </tr>\n",
       "    <tr>\n",
       "      <th>18</th>\n",
       "      <td>2012</td>\n",
       "      <td>462</td>\n",
       "    </tr>\n",
       "    <tr>\n",
       "      <th>25</th>\n",
       "      <td>2019</td>\n",
       "      <td>429</td>\n",
       "    </tr>\n",
       "    <tr>\n",
       "      <th>17</th>\n",
       "      <td>2011</td>\n",
       "      <td>415</td>\n",
       "    </tr>\n",
       "    <tr>\n",
       "      <th>16</th>\n",
       "      <td>2010</td>\n",
       "      <td>279</td>\n",
       "    </tr>\n",
       "    <tr>\n",
       "      <th>15</th>\n",
       "      <td>2009</td>\n",
       "      <td>160</td>\n",
       "    </tr>\n",
       "    <tr>\n",
       "      <th>14</th>\n",
       "      <td>2008</td>\n",
       "      <td>158</td>\n",
       "    </tr>\n",
       "    <tr>\n",
       "      <th>13</th>\n",
       "      <td>2007</td>\n",
       "      <td>145</td>\n",
       "    </tr>\n",
       "    <tr>\n",
       "      <th>12</th>\n",
       "      <td>2006</td>\n",
       "      <td>79</td>\n",
       "    </tr>\n",
       "    <tr>\n",
       "      <th>26</th>\n",
       "      <td>2020</td>\n",
       "      <td>55</td>\n",
       "    </tr>\n",
       "    <tr>\n",
       "      <th>11</th>\n",
       "      <td>2005</td>\n",
       "      <td>51</td>\n",
       "    </tr>\n",
       "    <tr>\n",
       "      <th>10</th>\n",
       "      <td>2004</td>\n",
       "      <td>38</td>\n",
       "    </tr>\n",
       "    <tr>\n",
       "      <th>9</th>\n",
       "      <td>2003</td>\n",
       "      <td>27</td>\n",
       "    </tr>\n",
       "    <tr>\n",
       "      <th>8</th>\n",
       "      <td>2002</td>\n",
       "      <td>12</td>\n",
       "    </tr>\n",
       "    <tr>\n",
       "      <th>5</th>\n",
       "      <td>1999</td>\n",
       "      <td>11</td>\n",
       "    </tr>\n",
       "    <tr>\n",
       "      <th>6</th>\n",
       "      <td>2000</td>\n",
       "      <td>10</td>\n",
       "    </tr>\n",
       "    <tr>\n",
       "      <th>4</th>\n",
       "      <td>1998</td>\n",
       "      <td>9</td>\n",
       "    </tr>\n",
       "    <tr>\n",
       "      <th>3</th>\n",
       "      <td>1997</td>\n",
       "      <td>9</td>\n",
       "    </tr>\n",
       "    <tr>\n",
       "      <th>7</th>\n",
       "      <td>2001</td>\n",
       "      <td>4</td>\n",
       "    </tr>\n",
       "    <tr>\n",
       "      <th>2</th>\n",
       "      <td>1996</td>\n",
       "      <td>2</td>\n",
       "    </tr>\n",
       "    <tr>\n",
       "      <th>1</th>\n",
       "      <td>1995</td>\n",
       "      <td>1</td>\n",
       "    </tr>\n",
       "    <tr>\n",
       "      <th>0</th>\n",
       "      <td>1994</td>\n",
       "      <td>1</td>\n",
       "    </tr>\n",
       "  </tbody>\n",
       "</table>\n",
       "</div>"
      ],
      "text/plain": [
       "    year  sold\n",
       "23  2017   754\n",
       "22  2016   631\n",
       "24  2018   619\n",
       "21  2015   575\n",
       "19  2013   494\n",
       "20  2014   476\n",
       "18  2012   462\n",
       "25  2019   429\n",
       "17  2011   415\n",
       "16  2010   279\n",
       "15  2009   160\n",
       "14  2008   158\n",
       "13  2007   145\n",
       "12  2006    79\n",
       "26  2020    55\n",
       "11  2005    51\n",
       "10  2004    38\n",
       "9   2003    27\n",
       "8   2002    12\n",
       "5   1999    11\n",
       "6   2000    10\n",
       "4   1998     9\n",
       "3   1997     9\n",
       "7   2001     4\n",
       "2   1996     2\n",
       "1   1995     1\n",
       "0   1994     1"
      ]
     },
     "execution_count": 30,
     "metadata": {},
     "output_type": "execute_result"
    }
   ],
   "source": [
    "df1=df[df['sold']==0]\n",
    "df1[['year', 'sold']].groupby(['year'], as_index=False).count().sort_values(by='sold', ascending=False)"
   ]
  },
  {
   "cell_type": "markdown",
   "id": "454123ff",
   "metadata": {},
   "source": [
    "#### What are the regions of used car in the dataset?"
   ]
  },
  {
   "cell_type": "code",
   "execution_count": 31,
   "id": "fb8c1fb9",
   "metadata": {},
   "outputs": [
    {
     "name": "stdout",
     "output_type": "stream",
     "text": [
      "Central    2376\n",
      "West       1976\n",
      "East       1939\n",
      "South      1615\n",
      "Name: Region, dtype: int64\n"
     ]
    },
    {
     "data": {
      "image/png": "[encoded data removed]",
      "text/plain": [
       "<Figure size 720x360 with 1 Axes>"
      ]
     },
     "metadata": {
      "needs_background": "light"
     },
     "output_type": "display_data"
    }
   ],
   "source": [
    "Regioncar=df[\"Region\"].value_counts()\n",
    "print (Regioncar)\n",
    "Regions = np.array(Regioncar)\n",
    "x = list(Regions)\n",
    "y = df.Region.value_counts().index\n",
    "plt.figure(figsize=(10,5))\n",
    "sns.barplot(x = y,y = x)\n",
    "plt.xlabel(\"Car Region\")\n",
    "plt.ylabel(\"Numbers\")\n",
    "plt.title(\"The Most Car Region\")\n",
    "plt.show()"
   ]
  },
  {
   "cell_type": "markdown",
   "id": "3633c476",
   "metadata": {},
   "source": [
    "#### Nummber of Sold car in each Region"
   ]
  },
  {
   "cell_type": "code",
   "execution_count": 33,
   "id": "77f14873",
   "metadata": {},
   "outputs": [
    {
     "data": {
      "text/html": [
       "<div>\n",
       "<style scoped>\n",
       "    .dataframe tbody tr th:only-of-type {\n",
       "        vertical-align: middle;\n",
       "    }\n",
       "\n",
       "    .dataframe tbody tr th {\n",
       "        vertical-align: top;\n",
       "    }\n",
       "\n",
       "    .dataframe thead th {\n",
       "        text-align: right;\n",
       "    }\n",
       "</style>\n",
       "<table border=\"1\" class=\"dataframe\">\n",
       "  <thead>\n",
       "    <tr style=\"text-align: right;\">\n",
       "      <th></th>\n",
       "      <th>Region</th>\n",
       "      <th>sold</th>\n",
       "    </tr>\n",
       "  </thead>\n",
       "  <tbody>\n",
       "    <tr>\n",
       "      <th>1</th>\n",
       "      <td>East</td>\n",
       "      <td>630</td>\n",
       "    </tr>\n",
       "    <tr>\n",
       "      <th>0</th>\n",
       "      <td>Central</td>\n",
       "      <td>540</td>\n",
       "    </tr>\n",
       "    <tr>\n",
       "      <th>3</th>\n",
       "      <td>West</td>\n",
       "      <td>487</td>\n",
       "    </tr>\n",
       "    <tr>\n",
       "      <th>2</th>\n",
       "      <td>South</td>\n",
       "      <td>343</td>\n",
       "    </tr>\n",
       "  </tbody>\n",
       "</table>\n",
       "</div>"
      ],
      "text/plain": [
       "    Region  sold\n",
       "1     East   630\n",
       "0  Central   540\n",
       "3     West   487\n",
       "2    South   343"
      ]
     },
     "execution_count": 33,
     "metadata": {},
     "output_type": "execute_result"
    }
   ],
   "source": [
    "df1=df[df['sold']==1]\n",
    "df1[['Region', 'sold']].groupby(['Region'], as_index=False).count().sort_values(by='sold', ascending=False)"
   ]
  },
  {
   "cell_type": "markdown",
   "id": "19abcf50",
   "metadata": {},
   "source": [
    "#### Nummber of Not Sold car in each Region"
   ]
  },
  {
   "cell_type": "code",
   "execution_count": 34,
   "id": "dcd661bb",
   "metadata": {},
   "outputs": [
    {
     "data": {
      "text/html": [
       "<div>\n",
       "<style scoped>\n",
       "    .dataframe tbody tr th:only-of-type {\n",
       "        vertical-align: middle;\n",
       "    }\n",
       "\n",
       "    .dataframe tbody tr th {\n",
       "        vertical-align: top;\n",
       "    }\n",
       "\n",
       "    .dataframe thead th {\n",
       "        text-align: right;\n",
       "    }\n",
       "</style>\n",
       "<table border=\"1\" class=\"dataframe\">\n",
       "  <thead>\n",
       "    <tr style=\"text-align: right;\">\n",
       "      <th></th>\n",
       "      <th>Region</th>\n",
       "      <th>sold</th>\n",
       "    </tr>\n",
       "  </thead>\n",
       "  <tbody>\n",
       "    <tr>\n",
       "      <th>0</th>\n",
       "      <td>Central</td>\n",
       "      <td>1836</td>\n",
       "    </tr>\n",
       "    <tr>\n",
       "      <th>3</th>\n",
       "      <td>West</td>\n",
       "      <td>1489</td>\n",
       "    </tr>\n",
       "    <tr>\n",
       "      <th>1</th>\n",
       "      <td>East</td>\n",
       "      <td>1309</td>\n",
       "    </tr>\n",
       "    <tr>\n",
       "      <th>2</th>\n",
       "      <td>South</td>\n",
       "      <td>1272</td>\n",
       "    </tr>\n",
       "  </tbody>\n",
       "</table>\n",
       "</div>"
      ],
      "text/plain": [
       "    Region  sold\n",
       "0  Central  1836\n",
       "3     West  1489\n",
       "1     East  1309\n",
       "2    South  1272"
      ]
     },
     "execution_count": 34,
     "metadata": {},
     "output_type": "execute_result"
    }
   ],
   "source": [
    "df1=df[df['sold']==0]\n",
    "df1[['Region', 'sold']].groupby(['Region'], as_index=False).count().sort_values(by='sold', ascending=False)"
   ]
  },
  {
   "cell_type": "markdown",
   "id": "96c461e9",
   "metadata": {},
   "source": [
    "#### What are the States of Cars in the dataset?"
   ]
  },
  {
   "cell_type": "code",
   "execution_count": 35,
   "id": "58187100",
   "metadata": {},
   "outputs": [
    {
     "name": "stdout",
     "output_type": "stream",
     "text": [
      "California              901\n",
      "Texas                   499\n",
      "New York                491\n",
      "Illinois                489\n",
      "Florida                 425\n",
      "Ohio                    321\n",
      "Michigan                305\n",
      "Washington              295\n",
      "Pennsylvania            235\n",
      "North Carolina          222\n",
      "Indiana                 213\n",
      "Massachusetts           191\n",
      "Georgia                 187\n",
      "Minnesota               169\n",
      "Virginia                167\n",
      "New Jersey              154\n",
      "Colorado                154\n",
      "Maryland                144\n",
      "Missouri                141\n",
      "Tennessee               135\n",
      "Utah                    133\n",
      "Oregon                  129\n",
      "Iowa                    123\n",
      "Wisconsin               117\n",
      "Arizona                 115\n",
      "Kansas                  112\n",
      "Maine                   110\n",
      "Arkansas                107\n",
      "Alabama                 106\n",
      "Oklahoma                 95\n",
      "Idaho                    89\n",
      "South Carolina           81\n",
      "New Mexico               71\n",
      "District of Columbia     68\n",
      "Louisiana                66\n",
      "Mississippi              64\n",
      "Connecticut              63\n",
      "Nebraska                 58\n",
      "Kentucky                 55\n",
      "Vermont                  50\n",
      "New Hampshire            47\n",
      "Nevada                   39\n",
      "Montana                  38\n",
      "North Dakota             33\n",
      "West Virginia            33\n",
      "South Dakota             22\n",
      "Rhode Island             17\n",
      "Delaware                 15\n",
      "Wyoming                  12\n",
      "Name: State or Province, dtype: int64\n"
     ]
    },
    {
     "data": {
      "image/png": "[encoded data removed]",
      "text/plain": [
       "<Figure size 2160x360 with 1 Axes>"
      ]
     },
     "metadata": {
      "needs_background": "light"
     },
     "output_type": "display_data"
    }
   ],
   "source": [
    "Regioncar=df[\"State or Province\"].value_counts()\n",
    "print (Regioncar)\n",
    "Regions = np.array(Regioncar)\n",
    "x = list(Regions)\n",
    "y = df['State or Province'].value_counts().index\n",
    "plt.figure(figsize=(30,5))\n",
    "sns.barplot(x = y,y = x)\n",
    "plt.xticks(rotation=90)\n",
    "plt.xlabel(\"State\")\n",
    "plt.ylabel(\"Numbers\")\n",
    "plt.title(\"The States of Cars\")\n",
    "plt.show()"
   ]
  },
  {
   "cell_type": "markdown",
   "id": "f7acff33",
   "metadata": {},
   "source": [
    "#### What are Types of Fuel of Cars in the dataset?"
   ]
  },
  {
   "cell_type": "code",
   "execution_count": 36,
   "id": "586513c2",
   "metadata": {},
   "outputs": [
    {
     "name": "stdout",
     "output_type": "stream",
     "text": [
      "Diesel    4299\n",
      "Petrol    3520\n",
      "CNG         52\n",
      "LPG         35\n",
      "Name: fuel, dtype: int64\n"
     ]
    },
    {
     "data": {
      "image/png": "[encoded data removed]",
      "text/plain": [
       "<Figure size 360x360 with 1 Axes>"
      ]
     },
     "metadata": {},
     "output_type": "display_data"
    }
   ],
   "source": [
    "fueltype = df[\"fuel\"].value_counts()\n",
    "print (fueltype)\n",
    "fuels = np.array(fueltype)\n",
    "x = list(fuels)\n",
    "y = df.fuel.value_counts().index\n",
    "sizes = x\n",
    "plt.figure(figsize=(5,5))\n",
    "plt.pie(sizes,labels=y,autopct=\"%1.1f%%\")\n",
    "plt.title('Fuel types of the cars ',color = 'black',fontsize=15)\n",
    "plt.show()"
   ]
  },
  {
   "cell_type": "markdown",
   "id": "5878919c",
   "metadata": {},
   "source": [
    "#### Number of Sold Car for each Fuel Type"
   ]
  },
  {
   "cell_type": "code",
   "execution_count": 38,
   "id": "0f313c19",
   "metadata": {},
   "outputs": [
    {
     "data": {
      "text/html": [
       "<div>\n",
       "<style scoped>\n",
       "    .dataframe tbody tr th:only-of-type {\n",
       "        vertical-align: middle;\n",
       "    }\n",
       "\n",
       "    .dataframe tbody tr th {\n",
       "        vertical-align: top;\n",
       "    }\n",
       "\n",
       "    .dataframe thead th {\n",
       "        text-align: right;\n",
       "    }\n",
       "</style>\n",
       "<table border=\"1\" class=\"dataframe\">\n",
       "  <thead>\n",
       "    <tr style=\"text-align: right;\">\n",
       "      <th></th>\n",
       "      <th>fuel</th>\n",
       "      <th>sold</th>\n",
       "    </tr>\n",
       "  </thead>\n",
       "  <tbody>\n",
       "    <tr>\n",
       "      <th>1</th>\n",
       "      <td>Diesel</td>\n",
       "      <td>1052</td>\n",
       "    </tr>\n",
       "    <tr>\n",
       "      <th>3</th>\n",
       "      <td>Petrol</td>\n",
       "      <td>935</td>\n",
       "    </tr>\n",
       "    <tr>\n",
       "      <th>0</th>\n",
       "      <td>CNG</td>\n",
       "      <td>7</td>\n",
       "    </tr>\n",
       "    <tr>\n",
       "      <th>2</th>\n",
       "      <td>LPG</td>\n",
       "      <td>6</td>\n",
       "    </tr>\n",
       "  </tbody>\n",
       "</table>\n",
       "</div>"
      ],
      "text/plain": [
       "     fuel  sold\n",
       "1  Diesel  1052\n",
       "3  Petrol   935\n",
       "0     CNG     7\n",
       "2     LPG     6"
      ]
     },
     "execution_count": 38,
     "metadata": {},
     "output_type": "execute_result"
    }
   ],
   "source": [
    "df1=df[df['sold']==1]\n",
    "df1[['fuel', 'sold']].groupby(['fuel'], as_index=False).count().sort_values(by='sold', ascending=False)"
   ]
  },
  {
   "cell_type": "markdown",
   "id": "a248e394",
   "metadata": {},
   "source": [
    "#### Number of Not Sold Car for each Fuel Type"
   ]
  },
  {
   "cell_type": "code",
   "execution_count": 37,
   "id": "4bb713e1",
   "metadata": {},
   "outputs": [
    {
     "data": {
      "text/html": [
       "<div>\n",
       "<style scoped>\n",
       "    .dataframe tbody tr th:only-of-type {\n",
       "        vertical-align: middle;\n",
       "    }\n",
       "\n",
       "    .dataframe tbody tr th {\n",
       "        vertical-align: top;\n",
       "    }\n",
       "\n",
       "    .dataframe thead th {\n",
       "        text-align: right;\n",
       "    }\n",
       "</style>\n",
       "<table border=\"1\" class=\"dataframe\">\n",
       "  <thead>\n",
       "    <tr style=\"text-align: right;\">\n",
       "      <th></th>\n",
       "      <th>fuel</th>\n",
       "      <th>sold</th>\n",
       "    </tr>\n",
       "  </thead>\n",
       "  <tbody>\n",
       "    <tr>\n",
       "      <th>1</th>\n",
       "      <td>Diesel</td>\n",
       "      <td>3247</td>\n",
       "    </tr>\n",
       "    <tr>\n",
       "      <th>3</th>\n",
       "      <td>Petrol</td>\n",
       "      <td>2585</td>\n",
       "    </tr>\n",
       "    <tr>\n",
       "      <th>0</th>\n",
       "      <td>CNG</td>\n",
       "      <td>45</td>\n",
       "    </tr>\n",
       "    <tr>\n",
       "      <th>2</th>\n",
       "      <td>LPG</td>\n",
       "      <td>29</td>\n",
       "    </tr>\n",
       "  </tbody>\n",
       "</table>\n",
       "</div>"
      ],
      "text/plain": [
       "     fuel  sold\n",
       "1  Diesel  3247\n",
       "3  Petrol  2585\n",
       "0     CNG    45\n",
       "2     LPG    29"
      ]
     },
     "execution_count": 37,
     "metadata": {},
     "output_type": "execute_result"
    }
   ],
   "source": [
    "df1=df[df['sold']==0]\n",
    "df1[['fuel', 'sold']].groupby(['fuel'], as_index=False).count().sort_values(by='sold', ascending=False)"
   ]
  },
  {
   "cell_type": "markdown",
   "id": "45fe598d",
   "metadata": {},
   "source": [
    "#### What are the Seller Type in the dataset?"
   ]
  },
  {
   "cell_type": "code",
   "execution_count": 39,
   "id": "390914a5",
   "metadata": {},
   "outputs": [
    {
     "name": "stdout",
     "output_type": "stream",
     "text": [
      "Individual          6563\n",
      "Dealer              1107\n",
      "Trustmark_Dealer     236\n",
      "Name: seller_type, dtype: int64\n"
     ]
    },
    {
     "data": {
      "image/png": "[encoded data removed]",
      "text/plain": [
       "<Figure size 360x360 with 1 Axes>"
      ]
     },
     "metadata": {},
     "output_type": "display_data"
    }
   ],
   "source": [
    "sellertype = df[\"seller_type\"].value_counts()\n",
    "print (sellertype)\n",
    "sellers = np.array(sellertype)\n",
    "x = list(sellers)\n",
    "y = df.seller_type.value_counts().index\n",
    "sizes = x\n",
    "plt.figure(figsize=(5,5))\n",
    "plt.pie(sizes,labels=y,autopct=\"%1.1f%%\")\n",
    "plt.title('seller_type of the car',color = 'black',fontsize=15)\n",
    "plt.show()"
   ]
  },
  {
   "cell_type": "markdown",
   "id": "9b5a5554",
   "metadata": {},
   "source": [
    "#### What are Transmission Types of Cars in the datset?"
   ]
  },
  {
   "cell_type": "code",
   "execution_count": 5,
   "id": "539cfc7f",
   "metadata": {},
   "outputs": [
    {
     "name": "stdout",
     "output_type": "stream",
     "text": [
      "Manual       6865\n",
      "Automatic    1041\n",
      "Name: transmission, dtype: int64\n"
     ]
    },
    {
     "data": {
      "image/png": "[encoded data removed]",
      "text/plain": [
       "<Figure size 360x360 with 1 Axes>"
      ]
     },
     "metadata": {},
     "output_type": "display_data"
    }
   ],
   "source": [
    "transmissiontype = df[\"transmission\"].value_counts()\n",
    "print (transmissiontype)\n",
    "transmissions = np.array(transmissiontype)\n",
    "x = list(transmissions)\n",
    "y = df.transmission.value_counts().index\n",
    "sizes = x\n",
    "plt.figure(figsize=(5,5))\n",
    "plt.pie(sizes,labels=y,autopct=\"%1.1f%%\")\n",
    "plt.title('Car Transmission Types',color = 'black',fontsize=15)\n",
    "plt.show()"
   ]
  },
  {
   "cell_type": "markdown",
   "id": "d7208caa",
   "metadata": {},
   "source": [
    "#### Number of Sold Car for each Transmission Type"
   ]
  },
  {
   "cell_type": "code",
   "execution_count": 7,
   "id": "c56925bb",
   "metadata": {},
   "outputs": [
    {
     "data": {
      "text/html": [
       "<div>\n",
       "<style scoped>\n",
       "    .dataframe tbody tr th:only-of-type {\n",
       "        vertical-align: middle;\n",
       "    }\n",
       "\n",
       "    .dataframe tbody tr th {\n",
       "        vertical-align: top;\n",
       "    }\n",
       "\n",
       "    .dataframe thead th {\n",
       "        text-align: right;\n",
       "    }\n",
       "</style>\n",
       "<table border=\"1\" class=\"dataframe\">\n",
       "  <thead>\n",
       "    <tr style=\"text-align: right;\">\n",
       "      <th></th>\n",
       "      <th>transmission</th>\n",
       "      <th>sold</th>\n",
       "    </tr>\n",
       "  </thead>\n",
       "  <tbody>\n",
       "    <tr>\n",
       "      <th>1</th>\n",
       "      <td>Manual</td>\n",
       "      <td>1714</td>\n",
       "    </tr>\n",
       "    <tr>\n",
       "      <th>0</th>\n",
       "      <td>Automatic</td>\n",
       "      <td>286</td>\n",
       "    </tr>\n",
       "  </tbody>\n",
       "</table>\n",
       "</div>"
      ],
      "text/plain": [
       "  transmission  sold\n",
       "1       Manual  1714\n",
       "0    Automatic   286"
      ]
     },
     "execution_count": 7,
     "metadata": {},
     "output_type": "execute_result"
    }
   ],
   "source": [
    "df1=df[df['sold']==1]\n",
    "df1[['transmission', 'sold']].groupby(['transmission'], as_index=False).count().sort_values(by='sold', ascending=False)"
   ]
  },
  {
   "cell_type": "markdown",
   "id": "c10ffaee",
   "metadata": {},
   "source": [
    "#### Number of Not Sold Car for each Transmission Type"
   ]
  },
  {
   "cell_type": "code",
   "execution_count": 8,
   "id": "c17920e5",
   "metadata": {},
   "outputs": [
    {
     "data": {
      "text/html": [
       "<div>\n",
       "<style scoped>\n",
       "    .dataframe tbody tr th:only-of-type {\n",
       "        vertical-align: middle;\n",
       "    }\n",
       "\n",
       "    .dataframe tbody tr th {\n",
       "        vertical-align: top;\n",
       "    }\n",
       "\n",
       "    .dataframe thead th {\n",
       "        text-align: right;\n",
       "    }\n",
       "</style>\n",
       "<table border=\"1\" class=\"dataframe\">\n",
       "  <thead>\n",
       "    <tr style=\"text-align: right;\">\n",
       "      <th></th>\n",
       "      <th>transmission</th>\n",
       "      <th>sold</th>\n",
       "    </tr>\n",
       "  </thead>\n",
       "  <tbody>\n",
       "    <tr>\n",
       "      <th>1</th>\n",
       "      <td>Manual</td>\n",
       "      <td>5151</td>\n",
       "    </tr>\n",
       "    <tr>\n",
       "      <th>0</th>\n",
       "      <td>Automatic</td>\n",
       "      <td>755</td>\n",
       "    </tr>\n",
       "  </tbody>\n",
       "</table>\n",
       "</div>"
      ],
      "text/plain": [
       "  transmission  sold\n",
       "1       Manual  5151\n",
       "0    Automatic   755"
      ]
     },
     "execution_count": 8,
     "metadata": {},
     "output_type": "execute_result"
    }
   ],
   "source": [
    "df1=df[df['sold']==0]\n",
    "df1[['transmission', 'sold']].groupby(['transmission'], as_index=False).count().sort_values(by='sold', ascending=False)"
   ]
  },
  {
   "cell_type": "markdown",
   "id": "0f96b557",
   "metadata": {},
   "source": [
    "#### What are the Owner Types in the dataset?"
   ]
  },
  {
   "cell_type": "code",
   "execution_count": 9,
   "id": "59f14d28",
   "metadata": {},
   "outputs": [
    {
     "name": "stdout",
     "output_type": "stream",
     "text": [
      "First_Owner           5215\n",
      "Second_Owner          2016\n",
      "Third_Owner            510\n",
      "Fourth_Above_Owner     160\n",
      "Test_Drive_Car           5\n",
      "Name: owner, dtype: int64\n"
     ]
    },
    {
     "data": {
      "image/png": "[encoded data removed]",
      "text/plain": [
       "<Figure size 360x360 with 1 Axes>"
      ]
     },
     "metadata": {},
     "output_type": "display_data"
    }
   ],
   "source": [
    "ownertype = df[\"owner\"].value_counts()\n",
    "print (ownertype)\n",
    "owners = np.array(ownertype)\n",
    "x = list(owners)\n",
    "y = df.owner.value_counts().index\n",
    "sizes = x\n",
    "plt.figure(figsize=(5,5))\n",
    "plt.pie(sizes,labels=y,autopct=\"%1.1f%%\")\n",
    "plt.title('Car owner types ',color = 'black',fontsize=15)\n",
    "plt.show()"
   ]
  },
  {
   "cell_type": "markdown",
   "id": "c93bb315",
   "metadata": {},
   "source": [
    "#### What are Number of Seats in the dataset?"
   ]
  },
  {
   "cell_type": "code",
   "execution_count": 10,
   "id": "5e3869bf",
   "metadata": {},
   "outputs": [
    {
     "name": "stdout",
     "output_type": "stream",
     "text": [
      "5     6254\n",
      "7     1120\n",
      "8      235\n",
      "4      133\n",
      "9       80\n",
      "6       62\n",
      "10      19\n",
      "2        2\n",
      "14       1\n",
      "Name: seats, dtype: int64\n"
     ]
    },
    {
     "data": {
      "image/png": "[encoded data removed]",
      "text/plain": [
       "<Figure size 360x360 with 1 Axes>"
      ]
     },
     "metadata": {},
     "output_type": "display_data"
    }
   ],
   "source": [
    "seatscount = df[\"seats\"].value_counts()\n",
    "print (seatscount)\n",
    "seats = np.array(seatscount)\n",
    "x = list(seats)\n",
    "y = df.seats.value_counts().index\n",
    "sizes = x\n",
    "plt.figure(figsize=(5,5))\n",
    "plt.pie(sizes,labels=y,autopct=\"%1.1f%%\")\n",
    "plt.title('Number seats of the cars ',color = 'black',fontsize=15)\n",
    "plt.show()"
   ]
  },
  {
   "cell_type": "markdown",
   "id": "f3eea8f6",
   "metadata": {},
   "source": [
    "#### Number of Sold Car by Seats"
   ]
  },
  {
   "cell_type": "code",
   "execution_count": 12,
   "id": "a2b1311d",
   "metadata": {},
   "outputs": [
    {
     "data": {
      "text/html": [
       "<div>\n",
       "<style scoped>\n",
       "    .dataframe tbody tr th:only-of-type {\n",
       "        vertical-align: middle;\n",
       "    }\n",
       "\n",
       "    .dataframe tbody tr th {\n",
       "        vertical-align: top;\n",
       "    }\n",
       "\n",
       "    .dataframe thead th {\n",
       "        text-align: right;\n",
       "    }\n",
       "</style>\n",
       "<table border=\"1\" class=\"dataframe\">\n",
       "  <thead>\n",
       "    <tr style=\"text-align: right;\">\n",
       "      <th></th>\n",
       "      <th>seats</th>\n",
       "      <th>sold</th>\n",
       "    </tr>\n",
       "  </thead>\n",
       "  <tbody>\n",
       "    <tr>\n",
       "      <th>1</th>\n",
       "      <td>5</td>\n",
       "      <td>1568</td>\n",
       "    </tr>\n",
       "    <tr>\n",
       "      <th>3</th>\n",
       "      <td>7</td>\n",
       "      <td>287</td>\n",
       "    </tr>\n",
       "    <tr>\n",
       "      <th>4</th>\n",
       "      <td>8</td>\n",
       "      <td>66</td>\n",
       "    </tr>\n",
       "    <tr>\n",
       "      <th>0</th>\n",
       "      <td>4</td>\n",
       "      <td>34</td>\n",
       "    </tr>\n",
       "    <tr>\n",
       "      <th>5</th>\n",
       "      <td>9</td>\n",
       "      <td>25</td>\n",
       "    </tr>\n",
       "    <tr>\n",
       "      <th>2</th>\n",
       "      <td>6</td>\n",
       "      <td>18</td>\n",
       "    </tr>\n",
       "    <tr>\n",
       "      <th>6</th>\n",
       "      <td>10</td>\n",
       "      <td>2</td>\n",
       "    </tr>\n",
       "  </tbody>\n",
       "</table>\n",
       "</div>"
      ],
      "text/plain": [
       "   seats  sold\n",
       "1      5  1568\n",
       "3      7   287\n",
       "4      8    66\n",
       "0      4    34\n",
       "5      9    25\n",
       "2      6    18\n",
       "6     10     2"
      ]
     },
     "execution_count": 12,
     "metadata": {},
     "output_type": "execute_result"
    }
   ],
   "source": [
    "df1=df[df['sold']==1]\n",
    "df1[['seats', 'sold']].groupby(['seats'], as_index=False).count().sort_values(by='sold', ascending=False)"
   ]
  },
  {
   "cell_type": "markdown",
   "id": "ba79967d",
   "metadata": {},
   "source": [
    "#### Number of Not Sold Car by Seats"
   ]
  },
  {
   "cell_type": "code",
   "execution_count": 13,
   "id": "1b7091b9",
   "metadata": {},
   "outputs": [
    {
     "data": {
      "text/html": [
       "<div>\n",
       "<style scoped>\n",
       "    .dataframe tbody tr th:only-of-type {\n",
       "        vertical-align: middle;\n",
       "    }\n",
       "\n",
       "    .dataframe tbody tr th {\n",
       "        vertical-align: top;\n",
       "    }\n",
       "\n",
       "    .dataframe thead th {\n",
       "        text-align: right;\n",
       "    }\n",
       "</style>\n",
       "<table border=\"1\" class=\"dataframe\">\n",
       "  <thead>\n",
       "    <tr style=\"text-align: right;\">\n",
       "      <th></th>\n",
       "      <th>seats</th>\n",
       "      <th>sold</th>\n",
       "    </tr>\n",
       "  </thead>\n",
       "  <tbody>\n",
       "    <tr>\n",
       "      <th>2</th>\n",
       "      <td>5</td>\n",
       "      <td>4686</td>\n",
       "    </tr>\n",
       "    <tr>\n",
       "      <th>4</th>\n",
       "      <td>7</td>\n",
       "      <td>833</td>\n",
       "    </tr>\n",
       "    <tr>\n",
       "      <th>5</th>\n",
       "      <td>8</td>\n",
       "      <td>169</td>\n",
       "    </tr>\n",
       "    <tr>\n",
       "      <th>1</th>\n",
       "      <td>4</td>\n",
       "      <td>99</td>\n",
       "    </tr>\n",
       "    <tr>\n",
       "      <th>6</th>\n",
       "      <td>9</td>\n",
       "      <td>55</td>\n",
       "    </tr>\n",
       "    <tr>\n",
       "      <th>3</th>\n",
       "      <td>6</td>\n",
       "      <td>44</td>\n",
       "    </tr>\n",
       "    <tr>\n",
       "      <th>7</th>\n",
       "      <td>10</td>\n",
       "      <td>17</td>\n",
       "    </tr>\n",
       "    <tr>\n",
       "      <th>0</th>\n",
       "      <td>2</td>\n",
       "      <td>2</td>\n",
       "    </tr>\n",
       "    <tr>\n",
       "      <th>8</th>\n",
       "      <td>14</td>\n",
       "      <td>1</td>\n",
       "    </tr>\n",
       "  </tbody>\n",
       "</table>\n",
       "</div>"
      ],
      "text/plain": [
       "   seats  sold\n",
       "2      5  4686\n",
       "4      7   833\n",
       "5      8   169\n",
       "1      4    99\n",
       "6      9    55\n",
       "3      6    44\n",
       "7     10    17\n",
       "0      2     2\n",
       "8     14     1"
      ]
     },
     "execution_count": 13,
     "metadata": {},
     "output_type": "execute_result"
    }
   ],
   "source": [
    "df1=df[df['sold']==0]\n",
    "df1[['seats', 'sold']].groupby(['seats'], as_index=False).count().sort_values(by='sold', ascending=False)"
   ]
  },
  {
   "cell_type": "markdown",
   "id": "4f4b7837",
   "metadata": {},
   "source": [
    "#### Percentage of sold cars in the dataset"
   ]
  },
  {
   "cell_type": "code",
   "execution_count": 21,
   "id": "21304016",
   "metadata": {},
   "outputs": [
    {
     "name": "stdout",
     "output_type": "stream",
     "text": [
      "0    5906\n",
      "1    2000\n",
      "Name: sold, dtype: int64\n"
     ]
    },
    {
     "data": {
      "image/png": "[encoded data removed]",
      "text/plain": [
       "<Figure size 360x360 with 1 Axes>"
      ]
     },
     "metadata": {},
     "output_type": "display_data"
    }
   ],
   "source": [
    "soldcount = df[\"sold\"].value_counts()\n",
    "print (soldcount)\n",
    "solds = np.array(soldcount)\n",
    "x = list(solds)\n",
    "y = df.sold.value_counts().index\n",
    "sizes = x\n",
    "plt.figure(figsize=(5,5))\n",
    "plt.pie(sizes,labels=y,autopct=\"%1.1f%%\")\n",
    "plt.title('Sold car in the dataset 1:sold, 0:Not sold ',color = 'black',fontsize=15)\n",
    "plt.show()"
   ]
  },
  {
   "cell_type": "markdown",
   "id": "07c5ce19",
   "metadata": {},
   "source": [
    "### Explore More Results Depend on User Entry"
   ]
  },
  {
   "cell_type": "markdown",
   "id": "305a8796",
   "metadata": {},
   "source": [
    "#### The top Number (choosen by user) of any numeric features (choosen by user)"
   ]
  },
  {
   "cell_type": "code",
   "execution_count": 18,
   "id": "1b76420d",
   "metadata": {},
   "outputs": [
    {
     "name": "stdout",
     "output_type": "stream",
     "text": [
      "Enter numeric feauter name:\n",
      "selling_price\n",
      "Enter the numbers of top rows you want see. for example 10\n",
      "8\n"
     ]
    },
    {
     "data": {
      "text/html": [
       "<div>\n",
       "<style scoped>\n",
       "    .dataframe tbody tr th:only-of-type {\n",
       "        vertical-align: middle;\n",
       "    }\n",
       "\n",
       "    .dataframe tbody tr th {\n",
       "        vertical-align: top;\n",
       "    }\n",
       "\n",
       "    .dataframe thead th {\n",
       "        text-align: right;\n",
       "    }\n",
       "</style>\n",
       "<table border=\"1\" class=\"dataframe\">\n",
       "  <thead>\n",
       "    <tr style=\"text-align: right;\">\n",
       "      <th></th>\n",
       "      <th>Sales_ID</th>\n",
       "      <th>name</th>\n",
       "      <th>year</th>\n",
       "      <th>selling_price</th>\n",
       "      <th>km_driven</th>\n",
       "      <th>Region</th>\n",
       "      <th>State or Province</th>\n",
       "      <th>City</th>\n",
       "      <th>fuel</th>\n",
       "      <th>seller_type</th>\n",
       "      <th>transmission</th>\n",
       "      <th>owner</th>\n",
       "      <th>mileage</th>\n",
       "      <th>engine</th>\n",
       "      <th>max_power</th>\n",
       "      <th>seats</th>\n",
       "      <th>sold</th>\n",
       "    </tr>\n",
       "  </thead>\n",
       "  <tbody>\n",
       "    <tr>\n",
       "      <th>164</th>\n",
       "      <td>171</td>\n",
       "      <td>Volvo</td>\n",
       "      <td>2017</td>\n",
       "      <td>10000000</td>\n",
       "      <td>30000</td>\n",
       "      <td>East</td>\n",
       "      <td>New York</td>\n",
       "      <td>New York City</td>\n",
       "      <td>Petrol</td>\n",
       "      <td>Individual</td>\n",
       "      <td>Automatic</td>\n",
       "      <td>First_Owner</td>\n",
       "      <td>42</td>\n",
       "      <td>1969</td>\n",
       "      <td>400</td>\n",
       "      <td>4</td>\n",
       "      <td>1</td>\n",
       "    </tr>\n",
       "    <tr>\n",
       "      <th>2846</th>\n",
       "      <td>2939</td>\n",
       "      <td>BMW</td>\n",
       "      <td>2020</td>\n",
       "      <td>7200000</td>\n",
       "      <td>5000</td>\n",
       "      <td>South</td>\n",
       "      <td>Florida</td>\n",
       "      <td>Palm Beach Gardens</td>\n",
       "      <td>Diesel</td>\n",
       "      <td>Individual</td>\n",
       "      <td>Automatic</td>\n",
       "      <td>First_Owner</td>\n",
       "      <td>13</td>\n",
       "      <td>2993</td>\n",
       "      <td>265</td>\n",
       "      <td>7</td>\n",
       "      <td>0</td>\n",
       "    </tr>\n",
       "    <tr>\n",
       "      <th>4813</th>\n",
       "      <td>4953</td>\n",
       "      <td>Audi</td>\n",
       "      <td>2019</td>\n",
       "      <td>6523000</td>\n",
       "      <td>23600</td>\n",
       "      <td>Central</td>\n",
       "      <td>Missouri</td>\n",
       "      <td>Saint Peters</td>\n",
       "      <td>Petrol</td>\n",
       "      <td>Dealer</td>\n",
       "      <td>Automatic</td>\n",
       "      <td>Test_Drive_Car</td>\n",
       "      <td>15</td>\n",
       "      <td>1798</td>\n",
       "      <td>187</td>\n",
       "      <td>5</td>\n",
       "      <td>0</td>\n",
       "    </tr>\n",
       "    <tr>\n",
       "      <th>4811</th>\n",
       "      <td>4951</td>\n",
       "      <td>Audi</td>\n",
       "      <td>2019</td>\n",
       "      <td>6223000</td>\n",
       "      <td>7800</td>\n",
       "      <td>Central</td>\n",
       "      <td>Missouri</td>\n",
       "      <td>Saint Peters</td>\n",
       "      <td>Petrol</td>\n",
       "      <td>Dealer</td>\n",
       "      <td>Automatic</td>\n",
       "      <td>Test_Drive_Car</td>\n",
       "      <td>15</td>\n",
       "      <td>1798</td>\n",
       "      <td>187</td>\n",
       "      <td>5</td>\n",
       "      <td>0</td>\n",
       "    </tr>\n",
       "    <tr>\n",
       "      <th>1040</th>\n",
       "      <td>1072</td>\n",
       "      <td>BMW</td>\n",
       "      <td>2018</td>\n",
       "      <td>6000000</td>\n",
       "      <td>28156</td>\n",
       "      <td>Central</td>\n",
       "      <td>Iowa</td>\n",
       "      <td>Ankeny</td>\n",
       "      <td>Diesel</td>\n",
       "      <td>Dealer</td>\n",
       "      <td>Automatic</td>\n",
       "      <td>First_Owner</td>\n",
       "      <td>17</td>\n",
       "      <td>2993</td>\n",
       "      <td>261</td>\n",
       "      <td>4</td>\n",
       "      <td>1</td>\n",
       "    </tr>\n",
       "    <tr>\n",
       "      <th>4630</th>\n",
       "      <td>4767</td>\n",
       "      <td>BMW</td>\n",
       "      <td>2018</td>\n",
       "      <td>6000000</td>\n",
       "      <td>27000</td>\n",
       "      <td>South</td>\n",
       "      <td>Florida</td>\n",
       "      <td>North Port</td>\n",
       "      <td>Diesel</td>\n",
       "      <td>Dealer</td>\n",
       "      <td>Automatic</td>\n",
       "      <td>First_Owner</td>\n",
       "      <td>17</td>\n",
       "      <td>2993</td>\n",
       "      <td>261</td>\n",
       "      <td>4</td>\n",
       "      <td>0</td>\n",
       "    </tr>\n",
       "    <tr>\n",
       "      <th>5114</th>\n",
       "      <td>5259</td>\n",
       "      <td>Mercedes</td>\n",
       "      <td>2017</td>\n",
       "      <td>6000000</td>\n",
       "      <td>37000</td>\n",
       "      <td>South</td>\n",
       "      <td>Louisiana</td>\n",
       "      <td>Baton Rouge</td>\n",
       "      <td>Diesel</td>\n",
       "      <td>Dealer</td>\n",
       "      <td>Automatic</td>\n",
       "      <td>First_Owner</td>\n",
       "      <td>13</td>\n",
       "      <td>2987</td>\n",
       "      <td>254</td>\n",
       "      <td>5</td>\n",
       "      <td>0</td>\n",
       "    </tr>\n",
       "    <tr>\n",
       "      <th>131</th>\n",
       "      <td>137</td>\n",
       "      <td>Mercedes</td>\n",
       "      <td>2017</td>\n",
       "      <td>6000000</td>\n",
       "      <td>37000</td>\n",
       "      <td>West</td>\n",
       "      <td>California</td>\n",
       "      <td>Los Angeles</td>\n",
       "      <td>Diesel</td>\n",
       "      <td>Dealer</td>\n",
       "      <td>Automatic</td>\n",
       "      <td>First_Owner</td>\n",
       "      <td>13</td>\n",
       "      <td>2987</td>\n",
       "      <td>254</td>\n",
       "      <td>5</td>\n",
       "      <td>1</td>\n",
       "    </tr>\n",
       "  </tbody>\n",
       "</table>\n",
       "</div>"
      ],
      "text/plain": [
       "      Sales_ID      name  year  selling_price  km_driven   Region  \\\n",
       "164        171     Volvo  2017       10000000      30000     East   \n",
       "2846      2939       BMW  2020        7200000       5000    South   \n",
       "4813      4953      Audi  2019        6523000      23600  Central   \n",
       "4811      4951      Audi  2019        6223000       7800  Central   \n",
       "1040      1072       BMW  2018        6000000      28156  Central   \n",
       "4630      4767       BMW  2018        6000000      27000    South   \n",
       "5114      5259  Mercedes  2017        6000000      37000    South   \n",
       "131        137  Mercedes  2017        6000000      37000     West   \n",
       "\n",
       "     State or Province                City    fuel seller_type transmission  \\\n",
       "164           New York       New York City  Petrol  Individual    Automatic   \n",
       "2846           Florida  Palm Beach Gardens  Diesel  Individual    Automatic   \n",
       "4813          Missouri        Saint Peters  Petrol      Dealer    Automatic   \n",
       "4811          Missouri        Saint Peters  Petrol      Dealer    Automatic   \n",
       "1040              Iowa              Ankeny  Diesel      Dealer    Automatic   \n",
       "4630           Florida          North Port  Diesel      Dealer    Automatic   \n",
       "5114         Louisiana         Baton Rouge  Diesel      Dealer    Automatic   \n",
       "131         California         Los Angeles  Diesel      Dealer    Automatic   \n",
       "\n",
       "               owner  mileage  engine  max_power  seats  sold  \n",
       "164      First_Owner       42    1969        400      4     1  \n",
       "2846     First_Owner       13    2993        265      7     0  \n",
       "4813  Test_Drive_Car       15    1798        187      5     0  \n",
       "4811  Test_Drive_Car       15    1798        187      5     0  \n",
       "1040     First_Owner       17    2993        261      4     1  \n",
       "4630     First_Owner       17    2993        261      4     0  \n",
       "5114     First_Owner       13    2987        254      5     0  \n",
       "131      First_Owner       13    2987        254      5     1  "
      ]
     },
     "execution_count": 18,
     "metadata": {},
     "output_type": "execute_result"
    }
   ],
   "source": [
    "print('Enter numeric feauter name:')\n",
    "x = input()\n",
    "print('Enter the numbers of top rows you want see. for example 10')\n",
    "y=input()\n",
    "y=int(y)\n",
    "df.sort_values(x, ascending=False).head(y)"
   ]
  },
  {
   "cell_type": "markdown",
   "id": "8e08faac",
   "metadata": {},
   "source": [
    "#### The least Number (choosen by user) of any numeric features (choosen by user)"
   ]
  },
  {
   "cell_type": "code",
   "execution_count": 33,
   "id": "9b4619bb",
   "metadata": {},
   "outputs": [
    {
     "name": "stdout",
     "output_type": "stream",
     "text": [
      "Enter numeric feauter name:\n",
      "year\n",
      "Enter the numbers of least rows you want see. for example 10\n",
      "4\n"
     ]
    },
    {
     "data": {
      "text/html": [
       "<div>\n",
       "<style scoped>\n",
       "    .dataframe tbody tr th:only-of-type {\n",
       "        vertical-align: middle;\n",
       "    }\n",
       "\n",
       "    .dataframe tbody tr th {\n",
       "        vertical-align: top;\n",
       "    }\n",
       "\n",
       "    .dataframe thead th {\n",
       "        text-align: right;\n",
       "    }\n",
       "</style>\n",
       "<table border=\"1\" class=\"dataframe\">\n",
       "  <thead>\n",
       "    <tr style=\"text-align: right;\">\n",
       "      <th></th>\n",
       "      <th>Sales_ID</th>\n",
       "      <th>name</th>\n",
       "      <th>year</th>\n",
       "      <th>selling_price</th>\n",
       "      <th>km_driven</th>\n",
       "      <th>Region</th>\n",
       "      <th>State or Province</th>\n",
       "      <th>City</th>\n",
       "      <th>fuel</th>\n",
       "      <th>seller_type</th>\n",
       "      <th>transmission</th>\n",
       "      <th>owner</th>\n",
       "      <th>mileage</th>\n",
       "      <th>engine</th>\n",
       "      <th>max_power</th>\n",
       "      <th>torque</th>\n",
       "      <th>seats</th>\n",
       "      <th>sold</th>\n",
       "    </tr>\n",
       "  </thead>\n",
       "  <tbody>\n",
       "    <tr>\n",
       "      <th>4577</th>\n",
       "      <td>4713</td>\n",
       "      <td>Ambassador</td>\n",
       "      <td>1994</td>\n",
       "      <td>99000</td>\n",
       "      <td>100000</td>\n",
       "      <td>South</td>\n",
       "      <td>Georgia</td>\n",
       "      <td>Peachtree City</td>\n",
       "      <td>Diesel</td>\n",
       "      <td>Individual</td>\n",
       "      <td>Manual</td>\n",
       "      <td>Second_Owner</td>\n",
       "      <td>12.8</td>\n",
       "      <td>1995</td>\n",
       "      <td>52.0</td>\n",
       "      <td>106Nm@ 2200rpm</td>\n",
       "      <td>5</td>\n",
       "      <td>N</td>\n",
       "    </tr>\n",
       "    <tr>\n",
       "      <th>1428</th>\n",
       "      <td>1475</td>\n",
       "      <td>Maruti</td>\n",
       "      <td>1994</td>\n",
       "      <td>45000</td>\n",
       "      <td>60000</td>\n",
       "      <td>East</td>\n",
       "      <td>Massachusetts</td>\n",
       "      <td>Braintree</td>\n",
       "      <td>Petrol</td>\n",
       "      <td>Individual</td>\n",
       "      <td>Manual</td>\n",
       "      <td>First_Owner</td>\n",
       "      <td>16.1</td>\n",
       "      <td>796</td>\n",
       "      <td>37.0</td>\n",
       "      <td>59Nm@ 2500rpm</td>\n",
       "      <td>4</td>\n",
       "      <td>Y</td>\n",
       "    </tr>\n",
       "    <tr>\n",
       "      <th>3773</th>\n",
       "      <td>3891</td>\n",
       "      <td>Maruti</td>\n",
       "      <td>1995</td>\n",
       "      <td>55000</td>\n",
       "      <td>70000</td>\n",
       "      <td>Central</td>\n",
       "      <td>Minnesota</td>\n",
       "      <td>Eden Prairie</td>\n",
       "      <td>Petrol</td>\n",
       "      <td>Individual</td>\n",
       "      <td>Manual</td>\n",
       "      <td>First_Owner</td>\n",
       "      <td>16.1</td>\n",
       "      <td>796</td>\n",
       "      <td>37.0</td>\n",
       "      <td>59Nm@ 2500rpm</td>\n",
       "      <td>4</td>\n",
       "      <td>N</td>\n",
       "    </tr>\n",
       "    <tr>\n",
       "      <th>6741</th>\n",
       "      <td>6934</td>\n",
       "      <td>Maruti</td>\n",
       "      <td>1996</td>\n",
       "      <td>42000</td>\n",
       "      <td>70000</td>\n",
       "      <td>South</td>\n",
       "      <td>South Carolina</td>\n",
       "      <td>Florence</td>\n",
       "      <td>Petrol</td>\n",
       "      <td>Individual</td>\n",
       "      <td>Manual</td>\n",
       "      <td>Third_Owner</td>\n",
       "      <td>16.1</td>\n",
       "      <td>796</td>\n",
       "      <td>37.0</td>\n",
       "      <td>59Nm@ 2500rpm</td>\n",
       "      <td>4</td>\n",
       "      <td>N</td>\n",
       "    </tr>\n",
       "  </tbody>\n",
       "</table>\n",
       "</div>"
      ],
      "text/plain": [
       "      Sales_ID        name  year  selling_price  km_driven   Region  \\\n",
       "4577      4713  Ambassador  1994          99000     100000    South   \n",
       "1428      1475      Maruti  1994          45000      60000     East   \n",
       "3773      3891      Maruti  1995          55000      70000  Central   \n",
       "6741      6934      Maruti  1996          42000      70000    South   \n",
       "\n",
       "     State or Province            City    fuel seller_type transmission  \\\n",
       "4577           Georgia  Peachtree City  Diesel  Individual       Manual   \n",
       "1428     Massachusetts       Braintree  Petrol  Individual       Manual   \n",
       "3773         Minnesota    Eden Prairie  Petrol  Individual       Manual   \n",
       "6741    South Carolina        Florence  Petrol  Individual       Manual   \n",
       "\n",
       "             owner  mileage  engine  max_power          torque  seats sold  \n",
       "4577  Second_Owner     12.8    1995       52.0  106Nm@ 2200rpm      5    N  \n",
       "1428   First_Owner     16.1     796       37.0   59Nm@ 2500rpm      4    Y  \n",
       "3773   First_Owner     16.1     796       37.0   59Nm@ 2500rpm      4    N  \n",
       "6741   Third_Owner     16.1     796       37.0   59Nm@ 2500rpm      4    N  "
      ]
     },
     "execution_count": 33,
     "metadata": {},
     "output_type": "execute_result"
    }
   ],
   "source": [
    "print('Enter numeric feauter name:')\n",
    "x = input()\n",
    "print('Enter the numbers of least rows you want see. for example 10')\n",
    "y=input()\n",
    "y=int(y)\n",
    "df.sort_values(x, ascending=True).head(y)"
   ]
  },
  {
   "cell_type": "markdown",
   "id": "b69ded97",
   "metadata": {},
   "source": [
    "#### Number of Sold by features (choosen by user)"
   ]
  },
  {
   "cell_type": "code",
   "execution_count": 37,
   "id": "0293059d",
   "metadata": {},
   "outputs": [
    {
     "name": "stdout",
     "output_type": "stream",
     "text": [
      "Enter the feauter name to show the numbers of its sold:\n",
      "owner\n"
     ]
    },
    {
     "data": {
      "text/html": [
       "<div>\n",
       "<style scoped>\n",
       "    .dataframe tbody tr th:only-of-type {\n",
       "        vertical-align: middle;\n",
       "    }\n",
       "\n",
       "    .dataframe tbody tr th {\n",
       "        vertical-align: top;\n",
       "    }\n",
       "\n",
       "    .dataframe thead th {\n",
       "        text-align: right;\n",
       "    }\n",
       "</style>\n",
       "<table border=\"1\" class=\"dataframe\">\n",
       "  <thead>\n",
       "    <tr style=\"text-align: right;\">\n",
       "      <th></th>\n",
       "      <th>owner</th>\n",
       "      <th>sold</th>\n",
       "    </tr>\n",
       "  </thead>\n",
       "  <tbody>\n",
       "    <tr>\n",
       "      <th>0</th>\n",
       "      <td>First_Owner</td>\n",
       "      <td>1326</td>\n",
       "    </tr>\n",
       "    <tr>\n",
       "      <th>2</th>\n",
       "      <td>Second_Owner</td>\n",
       "      <td>490</td>\n",
       "    </tr>\n",
       "    <tr>\n",
       "      <th>3</th>\n",
       "      <td>Third_Owner</td>\n",
       "      <td>135</td>\n",
       "    </tr>\n",
       "    <tr>\n",
       "      <th>1</th>\n",
       "      <td>Fourth_Above_Owner</td>\n",
       "      <td>49</td>\n",
       "    </tr>\n",
       "  </tbody>\n",
       "</table>\n",
       "</div>"
      ],
      "text/plain": [
       "                owner  sold\n",
       "0         First_Owner  1326\n",
       "2        Second_Owner   490\n",
       "3         Third_Owner   135\n",
       "1  Fourth_Above_Owner    49"
      ]
     },
     "execution_count": 37,
     "metadata": {},
     "output_type": "execute_result"
    }
   ],
   "source": [
    "print('Enter the feauter name to show the numbers of its sold:')\n",
    "x = input()\n",
    "df1=df[df['sold']==1]\n",
    "df1[[x, 'sold']].groupby([x], as_index=False).count().sort_values(by='sold', ascending=False)"
   ]
  },
  {
   "cell_type": "markdown",
   "id": "48ebf717",
   "metadata": {},
   "source": [
    "#### Number of Not Sold by features (choosen by user)"
   ]
  },
  {
   "cell_type": "code",
   "execution_count": 38,
   "id": "87813360",
   "metadata": {},
   "outputs": [
    {
     "name": "stdout",
     "output_type": "stream",
     "text": [
      "Enter the feauter name to show the numbers of its not_sold:\n",
      "owner\n"
     ]
    },
    {
     "data": {
      "text/html": [
       "<div>\n",
       "<style scoped>\n",
       "    .dataframe tbody tr th:only-of-type {\n",
       "        vertical-align: middle;\n",
       "    }\n",
       "\n",
       "    .dataframe tbody tr th {\n",
       "        vertical-align: top;\n",
       "    }\n",
       "\n",
       "    .dataframe thead th {\n",
       "        text-align: right;\n",
       "    }\n",
       "</style>\n",
       "<table border=\"1\" class=\"dataframe\">\n",
       "  <thead>\n",
       "    <tr style=\"text-align: right;\">\n",
       "      <th></th>\n",
       "      <th>owner</th>\n",
       "      <th>sold</th>\n",
       "    </tr>\n",
       "  </thead>\n",
       "  <tbody>\n",
       "    <tr>\n",
       "      <th>0</th>\n",
       "      <td>First_Owner</td>\n",
       "      <td>3889</td>\n",
       "    </tr>\n",
       "    <tr>\n",
       "      <th>2</th>\n",
       "      <td>Second_Owner</td>\n",
       "      <td>1526</td>\n",
       "    </tr>\n",
       "    <tr>\n",
       "      <th>4</th>\n",
       "      <td>Third_Owner</td>\n",
       "      <td>375</td>\n",
       "    </tr>\n",
       "    <tr>\n",
       "      <th>1</th>\n",
       "      <td>Fourth_Above_Owner</td>\n",
       "      <td>111</td>\n",
       "    </tr>\n",
       "    <tr>\n",
       "      <th>3</th>\n",
       "      <td>Test_Drive_Car</td>\n",
       "      <td>5</td>\n",
       "    </tr>\n",
       "  </tbody>\n",
       "</table>\n",
       "</div>"
      ],
      "text/plain": [
       "                owner  sold\n",
       "0         First_Owner  3889\n",
       "2        Second_Owner  1526\n",
       "4         Third_Owner   375\n",
       "1  Fourth_Above_Owner   111\n",
       "3      Test_Drive_Car     5"
      ]
     },
     "execution_count": 38,
     "metadata": {},
     "output_type": "execute_result"
    }
   ],
   "source": [
    "print('Enter the feauter name to show the numbers of its not_sold:')\n",
    "x = input()\n",
    "df1=df[df['sold']==0]\n",
    "df1[[x, 'sold']].groupby([x], as_index=False).count().sort_values(by='sold', ascending=False)"
   ]
  },
  {
   "cell_type": "markdown",
   "id": "cfb7b2f6",
   "metadata": {},
   "source": [
    "### 2. Target and Impact factors"
   ]
  },
  {
   "cell_type": "markdown",
   "id": "3bdc68b7",
   "metadata": {},
   "source": [
    "#### Relationship between target and other variables"
   ]
  },
  {
   "cell_type": "code",
   "execution_count": 73,
   "id": "06495983",
   "metadata": {},
   "outputs": [
    {
     "data": {
      "text/plain": [
       "Text(0.5, 1.0, 'sold vs selling_price')"
      ]
     },
     "execution_count": 73,
     "metadata": {},
     "output_type": "execute_result"
    },
    {
     "data": {
      "image/png": "[encoded data removed]",
      "text/plain": [
       "<Figure size 1656x1656 with 12 Axes>"
      ]
     },
     "metadata": {
      "needs_background": "light"
     },
     "output_type": "display_data"
    }
   ],
   "source": [
    "import seaborn as sns\n",
    "import matplotlib.pyplot as plt\n",
    "import numpy\n",
    "plt.figure(figsize=(23,23))\n",
    "\n",
    "x = df['selling_price']\n",
    "plt.subplot(4,4,1)\n",
    "plt.scatter(df['year'],x)\n",
    "plt.xlabel('year')\n",
    "plt.ylabel('selling_price')\n",
    "plt.title('year vs selling_price')\n",
    "\n",
    "plt.subplot(4,4,2)\n",
    "plt.scatter(df['km_driven'],x)\n",
    "plt.xlabel('km_driven')\n",
    "plt.ylabel('selling_price')\n",
    "plt.title('km_driven vs selling_price')\n",
    "\n",
    "plt.subplot(4,4,3)\n",
    "plt.scatter(df['mileage'],x)\n",
    "plt.xlabel('mileage')\n",
    "plt.ylabel('selling_price')\n",
    "plt.title('mileage vs selling_price')\n",
    "\n",
    "plt.subplot(4,4,4)\n",
    "plt.scatter(df['engine'],x)\n",
    "plt.xlabel('engine')\n",
    "plt.ylabel('selling_price')\n",
    "plt.title(' engine vs selling_price')\n",
    "\n",
    "plt.subplot(4,4,5)\n",
    "plt.scatter(df['max_power'],x)\n",
    "plt.xlabel('max_power')\n",
    "plt.ylabel('selling_price')\n",
    "plt.title('max_power vs selling_price')\n",
    "\n",
    "plt.subplot(4,4,6)\n",
    "plt.scatter(df['fuel'],x)\n",
    "plt.xlabel('fuel')\n",
    "plt.ylabel('selling_price')\n",
    "plt.title('fuel vs selling_price')\n",
    "\n",
    "plt.subplot(4,4,7)\n",
    "plt.scatter(df['Region'],x)\n",
    "plt.xlabel('Region')\n",
    "plt.ylabel('selling_price')\n",
    "plt.title('Region vs selling_price')\n",
    "\n",
    "plt.subplot(4,4,8)\n",
    "plt.scatter(df['seller_type'],x)\n",
    "plt.xlabel('seller_type')\n",
    "plt.ylabel('selling_price')\n",
    "plt.title('seller_type vs selling_price')\n",
    "\n",
    "plt.subplot(4,4,9)\n",
    "plt.scatter(df['transmission'],x)\n",
    "plt.xlabel('transmission')\n",
    "plt.ylabel('selling_price')\n",
    "plt.title('transmission vs selling_price')\n",
    "\n",
    "plt.subplot(4,4,10)\n",
    "plt.scatter(df['owner'],x)\n",
    "plt.xlabel('owner')\n",
    "plt.ylabel('selling_price')\n",
    "plt.title('owner vs selling_price')\n",
    "\n",
    "\n",
    "plt.subplot(4,4,11)\n",
    "plt.scatter(df['seats'],x)\n",
    "plt.xlabel('seats')\n",
    "plt.ylabel('selling_price')\n",
    "plt.title('seats vs selling_price')\n",
    "\n",
    "plt.subplot(4,4,12)\n",
    "plt.scatter(df['sold'],x)\n",
    "plt.xlabel('sold')\n",
    "plt.ylabel('selling_price')\n",
    "plt.title('sold vs selling_price')"
   ]
  },
  {
   "cell_type": "markdown",
   "id": "9e8e3daa",
   "metadata": {},
   "source": [
    "#### Transfer some factors to find new relation with target"
   ]
  },
  {
   "cell_type": "code",
   "execution_count": 352,
   "id": "745cfbd6",
   "metadata": {},
   "outputs": [],
   "source": [
    "df.loc[df['name'] == 'Maruti', 'name'] = 1\n",
    "df.loc[df['name'] == 'Hyundai', 'name'] = 2\n",
    "df.loc[df['name'] == 'Mahindra', 'name'] = 3 \n",
    "df.loc[df['name'] == 'Tata', 'name'] = 4\n",
    "df.loc[df['name'] == 'Honda', 'name'] = 5\n",
    "df.loc[df['name'] == 'Toyota', 'name'] = 6\n",
    "df.loc[df['name'] == 'Ford', 'name'] = 7\n",
    "df.loc[df['name'] == 'Chevrolet', 'name'] = 8\n",
    "df.loc[df['name'] == 'Renault', 'name'] = 9\n",
    "df.loc[df['name'] == 'BMW', 'name'] = 10\n",
    "df.loc[df['name'] == 'Volkswagen', 'name'] = 11\n",
    "df.loc[df['name'] == 'Skoda', 'name'] = 12\n",
    "df.loc[df['name'] == 'Nissan', 'name'] = 13\n",
    "df.loc[df['name'] == 'Jaguar', 'name'] = 14\n",
    "df.loc[df['name'] == 'Volvo', 'name'] = 15\n",
    "df.loc[df['name'] == 'Datsun', 'name'] = 16\n",
    "df.loc[df['name'] == 'Mercedes', 'name'] = 17\n",
    "df.loc[df['name'] == 'Fiat', 'name'] = 18\n",
    "df.loc[df['name'] == 'Audi', 'name'] = 19\n",
    "df.loc[df['name'] == 'Lexus', 'name'] = 20\n",
    "df.loc[df['name'] == 'Jeep', 'name'] = 21\n",
    "df.loc[df['name'] == 'Mitsubishi', 'name'] = 22\n",
    "df.loc[df['name'] == 'Force', 'name'] = 23\n",
    "df.loc[df['name'] == 'Land', 'name'] = 24\n",
    "df.loc[df['name'] == 'Isuzu', 'name'] = 25\n",
    "df.loc[df['name'] == 'Kia', 'name'] = 26\n",
    "df.loc[df['name'] == 'Ambassador', 'name'] = 27\n",
    "df.loc[df['name'] == 'Daewoo', 'name'] = 28\n",
    "df.loc[df['name'] == 'MG', 'name'] = 29\n",
    "df.loc[df['name'] == 'Ashok', 'name'] = 30\n",
    "df.loc[df['name'] == 'Opel', 'name'] = 31\n",
    "\n",
    "df.loc[df['Region'] == 'East', 'Region'] = 1\n",
    "df.loc[df['Region'] == 'Central', 'Region'] = 2\n",
    "df.loc[df['Region'] == 'West', 'Region'] = 3\n",
    "df.loc[df['Region'] == 'South', 'Region'] = 4\n",
    "\n",
    "df.loc[df['fuel'] == 'CNG', 'fuel'] = 1 \n",
    "df.loc[df['fuel'] == 'Petrol', 'fuel'] = 2\n",
    "df.loc[df['fuel'] == 'Diesel', 'fuel'] = 3\n",
    "df.loc[df['fuel'] == 'LPG', 'fuel'] = 4\n",
    "\n",
    "df.loc[df['seller_type'] == 'Individual', 'seller_type'] = 1\n",
    "df.loc[df['seller_type'] == 'Dealer', 'seller_type'] = 2\n",
    "df.loc[df['seller_type'] == 'Trustmark_Dealer', 'seller_type'] = 3\n",
    "\n",
    "df.loc[df['transmission'] == 'Automatic', 'transmission'] = 1\n",
    "df.loc[df['transmission'] == 'Manual', 'transmission'] = 2\n",
    "\n",
    "df.loc[df['owner'] == 'First_Owner', 'owner'] = 1\n",
    "df.loc[df['owner'] == 'Second_Owner', 'owner'] = 2\n",
    "df.loc[df['owner'] == 'Third_Owner', 'owner'] = 3\n",
    "df.loc[df['owner'] == 'Fourth_Above_Owner', 'owner'] = 4\n",
    "df.loc[df['owner'] == 'Test_Drive_Car', 'owner'] = 5\n",
    "\n",
    "#Transfer to integer\n",
    "df['name']=df['name'].astype(int)\n",
    "df['Region']=df['Region'].astype(int)\n",
    "df['fuel']=df['fuel'].astype(int)\n",
    "df['transmission']=df['transmission'].astype(int)\n",
    "df['seller_type']=df['seller_type'].astype(int)\n",
    "df['owner']=df['owner'].astype(int)\n"
   ]
  },
  {
   "cell_type": "code",
   "execution_count": 29,
   "id": "c4b4959c",
   "metadata": {},
   "outputs": [
    {
     "data": {
      "image/png": "[encoded data removed]",
      "text/plain": [
       "<Figure size 720x720 with 2 Axes>"
      ]
     },
     "metadata": {
      "needs_background": "light"
     },
     "output_type": "display_data"
    }
   ],
   "source": [
    "f,ax=plt.subplots(figsize=(10,10))\n",
    "sns.heatmap(df.corr(),annot=True,linewidths=1,linecolor=\"black\",fmt=\".2f\",ax=ax)\n",
    "plt.show()"
   ]
  },
  {
   "cell_type": "markdown",
   "id": "01758b74",
   "metadata": {},
   "source": [
    "#### What are the most brand have high price?"
   ]
  },
  {
   "cell_type": "code",
   "execution_count": 16,
   "id": "550ae9b0",
   "metadata": {},
   "outputs": [
    {
     "data": {
      "text/plain": [
       "<AxesSubplot:title={'center':'brand and selling price'}, xlabel='name', ylabel='Selling price(x1000000)'>"
      ]
     },
     "execution_count": 16,
     "metadata": {},
     "output_type": "execute_result"
    },
    {
     "data": {
      "image/png": "[encoded data removed]",
      "text/plain": [
       "<Figure size 720x360 with 1 Axes>"
      ]
     },
     "metadata": {
      "needs_background": "light"
     },
     "output_type": "display_data"
    }
   ],
   "source": [
    "plt.figure(figsize=(10,5))\n",
    "name=df.groupby('name')['selling_price'].mean().sort_values(ascending = False)\n",
    "plt.title('brand and selling price')\n",
    "plt.ylabel('Selling price(x1000000)')\n",
    "name.plot(kind='bar',color=(0.0, 0.1, 0.1, 0.7))"
   ]
  },
  {
   "cell_type": "markdown",
   "id": "c25c510c",
   "metadata": {},
   "source": [
    "#### What is the most region with high car price?"
   ]
  },
  {
   "cell_type": "code",
   "execution_count": 4,
   "id": "0bfe4391",
   "metadata": {},
   "outputs": [
    {
     "data": {
      "text/plain": [
       "<AxesSubplot:title={'center':'Region and selling price'}, xlabel='Region', ylabel='Selling price'>"
      ]
     },
     "execution_count": 4,
     "metadata": {},
     "output_type": "execute_result"
    },
    {
     "data": {
      "image/png": "[encoded data removed]",
      "text/plain": [
       "<Figure size 720x360 with 1 Axes>"
      ]
     },
     "metadata": {
      "needs_background": "light"
     },
     "output_type": "display_data"
    }
   ],
   "source": [
    "plt.figure(figsize=(10,5))\n",
    "region=df.groupby('Region')['selling_price'].mean().sort_values(ascending = False)\n",
    "plt.title('Region and selling price')\n",
    "plt.ylabel('Selling price')\n",
    "region.plot(kind='bar',color=(0.0, 0.1, 0.5, 0.3))"
   ]
  },
  {
   "cell_type": "markdown",
   "id": "5df9c307",
   "metadata": {},
   "source": [
    "## Model Revision"
   ]
  },
  {
   "cell_type": "markdown",
   "id": "a8991bfd",
   "metadata": {},
   "source": [
    "### Linear Regression"
   ]
  },
  {
   "cell_type": "code",
   "execution_count": 282,
   "id": "a9812db6",
   "metadata": {},
   "outputs": [
    {
     "name": "stdout",
     "output_type": "stream",
     "text": [
      "                            OLS Regression Results                            \n",
      "==============================================================================\n",
      "Dep. Variable:          selling_price   R-squared:                       0.678\n",
      "Model:                            OLS   Adj. R-squared:                  0.678\n",
      "Method:                 Least Squares   F-statistic:                     1386.\n",
      "Date:                Fri, 16 Dec 2022   Prob (F-statistic):               0.00\n",
      "Time:                        16:25:52   Log-Likelihood:            -1.1433e+05\n",
      "No. Observations:                7906   AIC:                         2.287e+05\n",
      "Df Residuals:                    7893   BIC:                         2.288e+05\n",
      "Df Model:                          12                                         \n",
      "Covariance Type:            nonrobust                                         \n",
      "================================================================================\n",
      "                   coef    std err          t      P>|t|      [0.025      0.975]\n",
      "--------------------------------------------------------------------------------\n",
      "const        -6.893e+07   3.85e+06    -17.914      0.000   -7.65e+07   -6.14e+07\n",
      "name          1.768e+04   1383.650     12.776      0.000     1.5e+04    2.04e+04\n",
      "Region        4253.9702   4872.777      0.873      0.383   -5297.962    1.38e+04\n",
      "seller_type    9.24e+04   1.22e+04      7.559      0.000    6.84e+04    1.16e+05\n",
      "fuel          6.368e+04   1.36e+04      4.681      0.000     3.7e+04    9.03e+04\n",
      "transmission -4.425e+05      2e+04    -22.144      0.000   -4.82e+05   -4.03e+05\n",
      "owner        -3173.4211   8507.557     -0.373      0.709   -1.99e+04    1.35e+04\n",
      "year          3.416e+04   1920.292     17.790      0.000    3.04e+04    3.79e+04\n",
      "km_driven       -1.0985      0.109    -10.047      0.000      -1.313      -0.884\n",
      "mileage       1.231e+04   2073.387      5.939      0.000    8249.095    1.64e+04\n",
      "engine          19.2183     23.404      0.821      0.412     -26.659      65.096\n",
      "max_power      1.27e+04    263.206     48.240      0.000    1.22e+04    1.32e+04\n",
      "seats        -1.853e+04   8205.853     -2.258      0.024   -3.46e+04   -2446.651\n",
      "==============================================================================\n",
      "Omnibus:                     4555.572   Durbin-Watson:                   1.607\n",
      "Prob(Omnibus):                  0.000   Jarque-Bera (JB):            81556.016\n",
      "Skew:                           2.398   Prob(JB):                         0.00\n",
      "Kurtosis:                      17.986   Cond. No.                     6.63e+07\n",
      "==============================================================================\n",
      "\n",
      "Notes:\n",
      "[1] Standard Errors assume that the covariance matrix of the errors is correctly specified.\n",
      "[2] The condition number is large, 6.63e+07. This might indicate that there are\n",
      "strong multicollinearity or other numerical problems.\n"
     ]
    }
   ],
   "source": [
    "import pandas as pd\n",
    "from sklearn import linear_model\n",
    "import statsmodels.api as sm\n",
    "x = df[['name','Region','seller_type','fuel','transmission','owner','year','km_driven','mileage','engine','max_power','seats']]\n",
    "y = df['selling_price']\n",
    "regr = linear_model.LinearRegression()\n",
    "regr.fit(x, y)\n",
    "x = sm.add_constant(x)\n",
    "model = sm.OLS(y, x).fit()\n",
    "predictions = model.predict(x) \n",
    "print_model = model.summary()\n",
    "print(print_model)\n"
   ]
  },
  {
   "cell_type": "code",
   "execution_count": 283,
   "id": "95024d8b",
   "metadata": {},
   "outputs": [
    {
     "name": "stdout",
     "output_type": "stream",
     "text": [
      "r2 score for perfect model is 0.6779905001660709\n",
      " \n"
     ]
    },
    {
     "data": {
      "text/plain": [
       "<matplotlib.collections.PathCollection at 0x255c71782e0>"
      ]
     },
     "execution_count": 283,
     "metadata": {},
     "output_type": "execute_result"
    },
    {
     "data": {
      "image/png": "[encoded data removed]",
      "text/plain": [
       "<Figure size 432x288 with 1 Axes>"
      ]
     },
     "metadata": {
      "needs_background": "light"
     },
     "output_type": "display_data"
    }
   ],
   "source": [
    "from sklearn.model_selection import train_test_split\n",
    "from sklearn.metrics import r2_score\n",
    "from sklearn.metrics import mean_squared_error\n",
    "from sklearn.linear_model import LinearRegression\n",
    "X_train, X_test, y_train, y_test = train_test_split(x, y, test_size=0.2, random_state=0)\n",
    "lm = LinearRegression()\n",
    "lm.fit(X_train,y_train)\n",
    "predictions1 = lm.predict(X_test)\n",
    "r2 = r2_score(y_test, predictions1)\n",
    "print('r2 score for perfect model is', r2)\n",
    "print(' ')\n",
    "plt.scatter(y_test, predictions1)"
   ]
  },
  {
   "cell_type": "markdown",
   "id": "873144f0",
   "metadata": {},
   "source": [
    "### Decision Tree Regression"
   ]
  },
  {
   "cell_type": "markdown",
   "id": "b435c567",
   "metadata": {},
   "source": [
    "#### 1. Applay all Features to Model"
   ]
  },
  {
   "cell_type": "code",
   "execution_count": 353,
   "id": "4d98c2fd",
   "metadata": {},
   "outputs": [
    {
     "data": {
      "text/plain": [
       "0.9997938533984421"
      ]
     },
     "execution_count": 353,
     "metadata": {},
     "output_type": "execute_result"
    }
   ],
   "source": [
    "from sklearn.tree import DecisionTreeRegressor \n",
    "regressor = DecisionTreeRegressor(random_state = 0) \n",
    "x = df[['name','Region','seller_type','fuel','transmission','owner','year','km_driven','mileage','engine','max_power','seats']]\n",
    "y = df['selling_price']\n",
    "regressor.fit(x, y)\n",
    "r_squared = regressor.score(x, y)\n",
    "r_squared"
   ]
  },
  {
   "cell_type": "code",
   "execution_count": 354,
   "id": "9f682dd8",
   "metadata": {},
   "outputs": [
    {
     "name": "stdout",
     "output_type": "stream",
     "text": [
      "r2 score for perfect model is 0.9444390842215931\n",
      " \n"
     ]
    },
    {
     "data": {
      "text/plain": [
       "<matplotlib.collections.PathCollection at 0x255b7f81400>"
      ]
     },
     "execution_count": 354,
     "metadata": {},
     "output_type": "execute_result"
    },
    {
     "data": {
      "image/png": "[encoded data removed]",
      "text/plain": [
       "<Figure size 432x288 with 1 Axes>"
      ]
     },
     "metadata": {
      "needs_background": "light"
     },
     "output_type": "display_data"
    }
   ],
   "source": [
    "from sklearn.model_selection import train_test_split\n",
    "from sklearn.metrics import r2_score\n",
    "from sklearn.tree import DecisionTreeRegressor \n",
    "X_train, X_test, y_train, y_test = train_test_split(x, y, test_size=0.2, random_state=0)\n",
    "lm = DecisionTreeRegressor()\n",
    "lm.fit(X_train,y_train)\n",
    "predictions = lm.predict(X_test)\n",
    "r2 = r2_score(y_test, predictions)\n",
    "print('r2 score for perfect model is', r2)\n",
    "print(' ')\n",
    "plt.scatter(y_test, predictions)"
   ]
  },
  {
   "cell_type": "markdown",
   "id": "950215fb",
   "metadata": {},
   "source": [
    "#### Actual values VS Predicted values"
   ]
  },
  {
   "cell_type": "code",
   "execution_count": 336,
   "id": "67372ad0",
   "metadata": {},
   "outputs": [
    {
     "data": {
      "text/html": [
       "<div>\n",
       "<style scoped>\n",
       "    .dataframe tbody tr th:only-of-type {\n",
       "        vertical-align: middle;\n",
       "    }\n",
       "\n",
       "    .dataframe tbody tr th {\n",
       "        vertical-align: top;\n",
       "    }\n",
       "\n",
       "    .dataframe thead th {\n",
       "        text-align: right;\n",
       "    }\n",
       "</style>\n",
       "<table border=\"1\" class=\"dataframe\">\n",
       "  <thead>\n",
       "    <tr style=\"text-align: right;\">\n",
       "      <th></th>\n",
       "      <th>Actual</th>\n",
       "      <th>Predicted</th>\n",
       "    </tr>\n",
       "  </thead>\n",
       "  <tbody>\n",
       "    <tr>\n",
       "      <th>3927</th>\n",
       "      <td>430000</td>\n",
       "      <td>430000.0</td>\n",
       "    </tr>\n",
       "    <tr>\n",
       "      <th>4695</th>\n",
       "      <td>779000</td>\n",
       "      <td>779000.0</td>\n",
       "    </tr>\n",
       "    <tr>\n",
       "      <th>4979</th>\n",
       "      <td>200000</td>\n",
       "      <td>210000.0</td>\n",
       "    </tr>\n",
       "    <tr>\n",
       "      <th>6325</th>\n",
       "      <td>800000</td>\n",
       "      <td>825000.0</td>\n",
       "    </tr>\n",
       "    <tr>\n",
       "      <th>44</th>\n",
       "      <td>390000</td>\n",
       "      <td>545000.0</td>\n",
       "    </tr>\n",
       "    <tr>\n",
       "      <th>...</th>\n",
       "      <td>...</td>\n",
       "      <td>...</td>\n",
       "    </tr>\n",
       "    <tr>\n",
       "      <th>7596</th>\n",
       "      <td>450000</td>\n",
       "      <td>525000.0</td>\n",
       "    </tr>\n",
       "    <tr>\n",
       "      <th>2228</th>\n",
       "      <td>650000</td>\n",
       "      <td>525000.0</td>\n",
       "    </tr>\n",
       "    <tr>\n",
       "      <th>555</th>\n",
       "      <td>120000</td>\n",
       "      <td>85000.0</td>\n",
       "    </tr>\n",
       "    <tr>\n",
       "      <th>4916</th>\n",
       "      <td>340000</td>\n",
       "      <td>330000.0</td>\n",
       "    </tr>\n",
       "    <tr>\n",
       "      <th>7222</th>\n",
       "      <td>620000</td>\n",
       "      <td>620000.0</td>\n",
       "    </tr>\n",
       "  </tbody>\n",
       "</table>\n",
       "<p>1582 rows × 2 columns</p>\n",
       "</div>"
      ],
      "text/plain": [
       "      Actual  Predicted\n",
       "3927  430000   430000.0\n",
       "4695  779000   779000.0\n",
       "4979  200000   210000.0\n",
       "6325  800000   825000.0\n",
       "44    390000   545000.0\n",
       "...      ...        ...\n",
       "7596  450000   525000.0\n",
       "2228  650000   525000.0\n",
       "555   120000    85000.0\n",
       "4916  340000   330000.0\n",
       "7222  620000   620000.0\n",
       "\n",
       "[1582 rows x 2 columns]"
      ]
     },
     "execution_count": 336,
     "metadata": {},
     "output_type": "execute_result"
    }
   ],
   "source": [
    "dfpredict=pd.DataFrame({'Actual':y_test, 'Predicted':predictions})\n",
    "dfpredict"
   ]
  },
  {
   "cell_type": "markdown",
   "id": "6fcfa319",
   "metadata": {},
   "source": [
    "#### 2.Apply Some Features to Model"
   ]
  },
  {
   "cell_type": "markdown",
   "id": "71f96315",
   "metadata": {},
   "source": [
    "I chose only the three most impactful features on target to test if there is performance improvement."
   ]
  },
  {
   "cell_type": "code",
   "execution_count": 355,
   "id": "007367ab",
   "metadata": {},
   "outputs": [
    {
     "data": {
      "text/plain": [
       "0.9887830820330716"
      ]
     },
     "execution_count": 355,
     "metadata": {},
     "output_type": "execute_result"
    }
   ],
   "source": [
    "from sklearn.tree import DecisionTreeRegressor \n",
    "regressor = DecisionTreeRegressor(random_state = 0) \n",
    "x = df[['year','engine','max_power']]\n",
    "y = df['selling_price']\n",
    "regressor.fit(x, y)\n",
    "r_squared = regressor.score(x, y)\n",
    "r_squared"
   ]
  },
  {
   "cell_type": "code",
   "execution_count": 356,
   "id": "3092ad0d",
   "metadata": {},
   "outputs": [
    {
     "name": "stdout",
     "output_type": "stream",
     "text": [
      "r2 score for perfect model is 0.9678803603312136\n",
      " \n"
     ]
    },
    {
     "data": {
      "text/plain": [
       "<matplotlib.collections.PathCollection at 0x255b80910a0>"
      ]
     },
     "execution_count": 356,
     "metadata": {},
     "output_type": "execute_result"
    },
    {
     "data": {
      "image/png": "[encoded data removed]",
      "text/plain": [
       "<Figure size 432x288 with 1 Axes>"
      ]
     },
     "metadata": {
      "needs_background": "light"
     },
     "output_type": "display_data"
    }
   ],
   "source": [
    "from sklearn.model_selection import train_test_split\n",
    "from sklearn.metrics import r2_score\n",
    "from sklearn.tree import DecisionTreeRegressor \n",
    "X_train, X_test, y_train, y_test = train_test_split(x, y, test_size=0.2, random_state=0)\n",
    "lm = DecisionTreeRegressor()\n",
    "lm.fit(X_train,y_train)\n",
    "predictions = lm.predict(X_test)\n",
    "r2 = r2_score(y_test, predictions)\n",
    "print('r2 score for perfect model is', r2)\n",
    "print(' ')\n",
    "plt.scatter(y_test, predictions)"
   ]
  },
  {
   "cell_type": "markdown",
   "id": "5262cbd9",
   "metadata": {},
   "source": [
    "#### Actual values VS Predicted values"
   ]
  },
  {
   "cell_type": "code",
   "execution_count": 339,
   "id": "97358c37",
   "metadata": {},
   "outputs": [
    {
     "data": {
      "text/html": [
       "<div>\n",
       "<style scoped>\n",
       "    .dataframe tbody tr th:only-of-type {\n",
       "        vertical-align: middle;\n",
       "    }\n",
       "\n",
       "    .dataframe tbody tr th {\n",
       "        vertical-align: top;\n",
       "    }\n",
       "\n",
       "    .dataframe thead th {\n",
       "        text-align: right;\n",
       "    }\n",
       "</style>\n",
       "<table border=\"1\" class=\"dataframe\">\n",
       "  <thead>\n",
       "    <tr style=\"text-align: right;\">\n",
       "      <th></th>\n",
       "      <th>Actual</th>\n",
       "      <th>Predicted</th>\n",
       "    </tr>\n",
       "  </thead>\n",
       "  <tbody>\n",
       "    <tr>\n",
       "      <th>3927</th>\n",
       "      <td>430000</td>\n",
       "      <td>448458.291667</td>\n",
       "    </tr>\n",
       "    <tr>\n",
       "      <th>4695</th>\n",
       "      <td>779000</td>\n",
       "      <td>763266.666667</td>\n",
       "    </tr>\n",
       "    <tr>\n",
       "      <th>4979</th>\n",
       "      <td>200000</td>\n",
       "      <td>218399.900000</td>\n",
       "    </tr>\n",
       "    <tr>\n",
       "      <th>6325</th>\n",
       "      <td>800000</td>\n",
       "      <td>802857.142857</td>\n",
       "    </tr>\n",
       "    <tr>\n",
       "      <th>44</th>\n",
       "      <td>390000</td>\n",
       "      <td>435782.478261</td>\n",
       "    </tr>\n",
       "    <tr>\n",
       "      <th>...</th>\n",
       "      <td>...</td>\n",
       "      <td>...</td>\n",
       "    </tr>\n",
       "    <tr>\n",
       "      <th>7596</th>\n",
       "      <td>450000</td>\n",
       "      <td>495900.000000</td>\n",
       "    </tr>\n",
       "    <tr>\n",
       "      <th>2228</th>\n",
       "      <td>650000</td>\n",
       "      <td>613529.411765</td>\n",
       "    </tr>\n",
       "    <tr>\n",
       "      <th>555</th>\n",
       "      <td>120000</td>\n",
       "      <td>85000.000000</td>\n",
       "    </tr>\n",
       "    <tr>\n",
       "      <th>4916</th>\n",
       "      <td>340000</td>\n",
       "      <td>345000.000000</td>\n",
       "    </tr>\n",
       "    <tr>\n",
       "      <th>7222</th>\n",
       "      <td>620000</td>\n",
       "      <td>760000.000000</td>\n",
       "    </tr>\n",
       "  </tbody>\n",
       "</table>\n",
       "<p>1582 rows × 2 columns</p>\n",
       "</div>"
      ],
      "text/plain": [
       "      Actual      Predicted\n",
       "3927  430000  448458.291667\n",
       "4695  779000  763266.666667\n",
       "4979  200000  218399.900000\n",
       "6325  800000  802857.142857\n",
       "44    390000  435782.478261\n",
       "...      ...            ...\n",
       "7596  450000  495900.000000\n",
       "2228  650000  613529.411765\n",
       "555   120000   85000.000000\n",
       "4916  340000  345000.000000\n",
       "7222  620000  760000.000000\n",
       "\n",
       "[1582 rows x 2 columns]"
      ]
     },
     "execution_count": 339,
     "metadata": {},
     "output_type": "execute_result"
    }
   ],
   "source": [
    "dfpredict=pd.DataFrame({'Actual':y_test, 'Predicted':predictions})\n",
    "dfpredict"
   ]
  },
  {
   "cell_type": "markdown",
   "id": "53379bfe",
   "metadata": {},
   "source": [
    "## Final Analysis"
   ]
  },
  {
   "cell_type": "markdown",
   "id": "61c43e93",
   "metadata": {},
   "source": [
    "I found the most impact factors in the target (price) as a positive impact are max-power, engine, and year. km-driven factor affects the price negatively. Also from data analysis and visualization, the price increases with automatic transmission more than with manual. Price increases if the owner of the car is the first owner or if the vehicle is test-driven car. Petrol and Diesel fuel increase the price more than other fuels.\n",
    "\n",
    "In the model part, I used R2 to evaluate models. first I used the Linear Regression model to predict the price of the car. I got R2= 0.678 which is the performance measure of the model. When R2 is close to 1 means better and there is variance between features and target. I tried to improve the R2, so I used the Decision Tree Regression model. The R2= 0.95 which means better than the Linear Regression model. All this work done with help of Python (Panda, Numby, Matplotlib and sklearn).\n",
    "\n",
    "To avoid overfitting, I decided to use reduce and remove outliers to check if there is an improvement. First, I started by reducing the features where I reduced the features from 12 features to 3. These three features are selected based on which correlation matrix shows which feature has the greatest effect on the target. After applying the model for the reducing version, the performance was improved (from 0.94 to 0.96). Then I tested the model by letting the user select the vehicle's features. I ran the test several times with different values and saw that the model predicted exactly the average price or close to it (in the range).\n",
    "\n",
    "Second, I removed the outliers that dropped over 500 rows of data. Then I checked the performance of the model for 12 features and 3 features (reducing version) after removing the outliers. I got 0.77 and 0.88 respectively.\n",
    "Therefore, I see that the three features (reduce version) are sufficient to get good model performance, and don't need to remove outliers.\n",
    "\n",
    "Finally, the research question is:\n",
    "What is the price of a car with these features (year = 2016, engine = 1248, maximum power = 88)? predicted is done. The answer is 738,114, depending on the data set. I confirmed the result by analyzing the Excel file (dataset) and found that the result is equal to the average price of the above provided features."
   ]
  },
  {
   "cell_type": "markdown",
   "id": "93a57ac2",
   "metadata": {},
   "source": [
    "### Find Car Price by User"
   ]
  },
  {
   "cell_type": "markdown",
   "id": "98f7262c",
   "metadata": {},
   "source": [
    "The user needs to enter 3 features of his car (Year, Engine and Max Power) then the user will get the estimated price."
   ]
  },
  {
   "cell_type": "code",
   "execution_count": 382,
   "id": "c8e012cd",
   "metadata": {},
   "outputs": [],
   "source": [
    "import pandas as pd\n",
    "new1 = pd.DataFrame(columns=['year','engine','max_power','selling_price'])"
   ]
  },
  {
   "cell_type": "code",
   "execution_count": 366,
   "id": "14db0136",
   "metadata": {},
   "outputs": [
    {
     "name": "stdout",
     "output_type": "stream",
     "text": [
      "Enter year:\n",
      "2016\n",
      "Enter engin:\n",
      "1248\n",
      "Enter max-power:\n",
      "88\n",
      "Predicted [738114.73770492]\n"
     ]
    }
   ],
   "source": [
    "lm.fit(x, y)\n",
    "print('Enter year:')\n",
    "a1 = input()\n",
    "new1['year']=[a1]\n",
    "print('Enter engin:')\n",
    "a2 = input()\n",
    "new1['engine']=[a2]\n",
    "print('Enter max-power:')\n",
    "a3 = input()\n",
    "new1['max_power']=[a3]\n",
    "s1 = new1[['year','engine','max_power']]\n",
    "predictionss = lm.predict(s1)\n",
    "new1['selling_price']=predictionss\n",
    "print('Predicted',predictionss)"
   ]
  }
 ],
 "metadata": {
  "kernelspec": {
   "display_name": "Python 3",
   "language": "python",
   "name": "python3"
  },
  "language_info": {
   "codemirror_mode": {
    "name": "ipython",
    "version": 3
   },
   "file_extension": ".py",
   "mimetype": "text/x-python",
   "name": "python",
   "nbconvert_exporter": "python",
   "pygments_lexer": "ipython3",
   "version": "3.8.8"
  }
 },
 "nbformat": 4,
 "nbformat_minor": 5
}
